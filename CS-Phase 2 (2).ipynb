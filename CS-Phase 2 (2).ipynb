{
 "cells": [
  {
   "cell_type": "markdown",
   "metadata": {},
   "source": [
    "# Phase 1 - Ingestion and Cleaning\n",
    "\n",
    "In the Phase 2 of the Case Study, we will carry out the following steps:\n",
    "  - Ingest raw downloaded data\n",
    "  - Output a combined dataset ready for analysis and modeling"
   ]
  },
  {
   "cell_type": "code",
   "execution_count": 1,
   "metadata": {},
   "outputs": [],
   "source": [
    "import pandas as pd\n",
    "import os\n",
    "from sys import platform\n",
    "import matplotlib.pyplot as plt\n",
    "import datetime\n",
    "import numpy as np\n",
    "import pickle\n",
    "import seaborn"
   ]
  },
  {
   "cell_type": "code",
   "execution_count": 2,
   "metadata": {},
   "outputs": [],
   "source": [
    "# A helper function that you'll be using while reading the raw files\n",
    "def is_integer(x):\n",
    "    '''\n",
    "    This function returns True if x is an integer, and False otherwise\n",
    "    '''\n",
    "    try:\n",
    "        return (int(x) == float(x))\n",
    "    except:\n",
    "        return False"
   ]
  },
  {
   "cell_type": "markdown",
   "metadata": {},
   "source": [
    "## Parameters"
   ]
  },
  {
   "cell_type": "code",
   "execution_count": 3,
   "metadata": {},
   "outputs": [],
   "source": [
    "# Define the directories that contain the files downloaded\n",
    "dir_cs = os.getcwd() + \"/1805_download\" # path to the directory where all the *.csv.zip files are located\n",
    "\n",
    "# Define the output path for the pickle\n",
    "pickle_file =  \"./clean_data.pickle\" # path to save cleaned data"
   ]
  },
  {
   "cell_type": "code",
   "execution_count": 4,
   "metadata": {},
   "outputs": [],
   "source": [
    "# Identify the columns we'll be keeping from the dataset\n",
    "cols_to_pick = ['id', 'loan_amnt', 'funded_amnt', 'term', 'int_rate', 'installment', 'grade', 'emp_length',\n",
    "'home_ownership', 'annual_inc', 'verification_status', 'issue_d', 'loan_status',\n",
    "'purpose', 'dti', 'delinq_2yrs', 'earliest_cr_line', 'open_acc', 'pub_rec',\n",
    "'fico_range_high', 'fico_range_low', 'revol_bal', 'revol_util', 'total_pymnt',\n",
    "'last_pymnt_d', 'recoveries'] # list of features to use for this study as indicated in the handout\n",
    "\n",
    "# Identify the type of each of these column based on your CS-Phase 1 response\n",
    "float_cols = ['loan_amnt', 'funded_amnt', 'installment','annual_inc','dti','delinq_2yrs','open_acc','pub_rec',\n",
    "              'fico_range_high', 'fico_range_low','revol_bal','total_pymnt','recoveries']\n",
    "cat_cols = ['term','grade', 'emp_length','home_ownership','verification_status', 'loan_status', 'purpose'] # categorical features\n",
    "perc_cols = ['int_rate', 'revol_util']\n",
    "date_cols = ['issue_d', 'earliest_cr_line', 'last_pymnt_d']\n",
    "\n",
    "# Ensure that we have types for every column\n",
    "assert set(cols_to_pick) - set(float_cols) - set(cat_cols) - set(perc_cols) - set(date_cols) == set([\"id\"])"
   ]
  },
  {
   "cell_type": "code",
   "execution_count": 5,
   "metadata": {},
   "outputs": [],
   "source": [
    "# Some of the columns selected will not be used directly in the model,\n",
    "# but will be used to generate other features.\n",
    "#\n",
    "# Create variables specifying the features that will be used\n",
    "\n",
    "# All categorical columns other than \"loan_status\" will be used as\n",
    "# discrete features\n",
    "\n",
    "discrete_features = list(set(cat_cols) - set([\"loan_status\"]))\n",
    "\n",
    "# All numeric columns will be used as continuous features\n",
    "continuous_features = list(float_cols + perc_cols)"
   ]
  },
  {
   "cell_type": "markdown",
   "metadata": {},
   "source": [
    "## Ingestion\n",
    "Ingest the data files from both sets, perform consistency checks, and prepare one single file for each set"
   ]
  },
  {
   "cell_type": "code",
   "execution_count": 6,
   "metadata": {},
   "outputs": [],
   "source": [
    "def ingest_files(directory):\n",
    "    '''\n",
    "    This function will ingest every file in the specified directory\n",
    "    into a pandas dataframe. It will return a dictionary containing\n",
    "    these dataframes, keyed by the file name.\n",
    "    \n",
    "    We assume the directory contains files directly downloaded from\n",
    "    the link given in the handout, and *only* those files. Thus, we \n",
    "    assume the files are zipped (pd.read_csv can read zipped files) \n",
    "    and we assume the first line in each file needs to be skipped.\n",
    "    \n",
    "    Note that each file will be read *without* formatting\n",
    "    '''\n",
    "    \n",
    "    # If the directory has no trailing slash, add one\n",
    "    if directory[-1] != \"/\":\n",
    "        directory =  directory + \"/\"\n",
    "    all_files = []\n",
    "    for file in os.listdir(directory):\n",
    "        if file.endswith(\".zip\"):\n",
    "            all_files.append(file)\n",
    "    output = {}\n",
    "    \n",
    "    print(\"Directory \" + directory + \" has \" + str(len(all_files)) + \" files:\")\n",
    "    for i in all_files:\n",
    "        print(\"    Reading file \" + i)\n",
    "        output[i] = pd.read_csv(directory + i, dtype='str', header=1) # read each with dtype='str' and skip_rows =1\n",
    "        \n",
    "        # Some of the files have \"summary\" lines that, for example\n",
    "        # read \"Total number of loans number in Policy 1: .....\"\n",
    "        # To remove those lines, find any lines with non-integer IDs\n",
    "        # and remove them\n",
    "        l = output[i]['id'].tolist()\n",
    "        invalid_rows = [x for x, y in enumerate(l) if not is_integer(y)]# mask rows that have non-integer IDs. Use is_integer method\n",
    "        if len(invalid_rows) != 0:\n",
    "            print(\"Found \" + str(len(invalid_rows)) + \" invalid rows which were removed\")\n",
    "            output[i].drop(output[i].index[invalid_rows])\n",
    "    \n",
    "    return output # return dictionary of dataframe"
   ]
  },
  {
   "cell_type": "code",
   "execution_count": 7,
   "metadata": {},
   "outputs": [
    {
     "name": "stdout",
     "output_type": "stream",
     "text": [
      "Directory C:\\Users\\Wenting Zhao\\Documents\\ML\\case study\\Phase 2/1805_download/ has 12 files:\n",
      "    Reading file LoanStats3a_securev1.csv.zip\n",
      "Found 3 invalid rows which were removed\n",
      "    Reading file LoanStats3b_securev1.csv.zip\n",
      "Found 2 invalid rows which were removed\n",
      "    Reading file LoanStats3c_securev1.csv.zip\n",
      "Found 2 invalid rows which were removed\n",
      "    Reading file LoanStats3d_securev1.csv.zip\n",
      "Found 2 invalid rows which were removed\n",
      "    Reading file LoanStats_securev1_2016Q1.csv.zip\n",
      "Found 2 invalid rows which were removed\n",
      "    Reading file LoanStats_securev1_2016Q2.csv.zip\n",
      "Found 2 invalid rows which were removed\n",
      "    Reading file LoanStats_securev1_2016Q3.csv.zip\n",
      "Found 2 invalid rows which were removed\n",
      "    Reading file LoanStats_securev1_2016Q4.csv.zip\n",
      "Found 2 invalid rows which were removed\n",
      "    Reading file LoanStats_securev1_2017Q1.csv.zip\n",
      "Found 2 invalid rows which were removed\n",
      "    Reading file LoanStats_securev1_2017Q2.csv.zip\n",
      "Found 2 invalid rows which were removed\n",
      "    Reading file LoanStats_securev1_2017Q3.csv.zip\n",
      "Found 2 invalid rows which were removed\n",
      "    Reading file LoanStats_securev1_2017Q4.csv.zip\n",
      "Found 2 invalid rows which were removed\n"
     ]
    }
   ],
   "source": [
    "# Ingest the set of files we downloaded using the defined method \"ingest_files\"\n",
    "files_cs = ingest_files(dir_cs) # dictioary of (filename, dataframe) as (key, value)"
   ]
  },
  {
   "cell_type": "markdown",
   "metadata": {},
   "source": [
    "### Combine the files"
   ]
  },
  {
   "cell_type": "code",
   "execution_count": 8,
   "metadata": {},
   "outputs": [],
   "source": [
    "li = []\n",
    "for key, value in files_cs.items():\n",
    "    li.append(value)\n",
    "data_cs = pd.concat(li, ignore_index=True) # combine \"files_cs\" into a pandas dataframe\n",
    "              # resent index with drop = True"
   ]
  },
  {
   "cell_type": "markdown",
   "metadata": {},
   "source": [
    "## Prepare Final Dataset"
   ]
  },
  {
   "cell_type": "code",
   "execution_count": 9,
   "metadata": {},
   "outputs": [],
   "source": [
    "# Keep only the columns of interest from 'data_cs'\n",
    "final_data = data_cs[data_cs.columns[data_cs.columns.isin(cols_to_pick)]]\n"
   ]
  },
  {
   "cell_type": "code",
   "execution_count": 10,
   "metadata": {},
   "outputs": [
    {
     "name": "stdout",
     "output_type": "stream",
     "text": [
      "Starting with 1765451 rows\n"
     ]
    }
   ],
   "source": [
    "print(\"Starting with \" + str(len(final_data)) + \" rows\")"
   ]
  },
  {
   "cell_type": "markdown",
   "metadata": {},
   "source": [
    "### Typecast the columns"
   ]
  },
  {
   "cell_type": "code",
   "execution_count": 11,
   "metadata": {},
   "outputs": [
    {
     "name": "stderr",
     "output_type": "stream",
     "text": [
      "C:\\Users\\Wenting Zhao\\Anaconda4\\envs\\py36\\lib\\site-packages\\ipykernel_launcher.py:5: SettingWithCopyWarning: \n",
      "A value is trying to be set on a copy of a slice from a DataFrame.\n",
      "Try using .loc[row_indexer,col_indexer] = value instead\n",
      "\n",
      "See the caveats in the documentation: http://pandas.pydata.org/pandas-docs/stable/indexing.html#indexing-view-versus-copy\n",
      "  \"\"\"\n"
     ]
    }
   ],
   "source": [
    "# Remember that we read the data as string (without any formatting). \n",
    "# Now we would typecast the columns based on feature types which you found out in CS Phase 1\n",
    "\n",
    "for i in float_cols:\n",
    "    final_data[i] = final_data[i].astype('float') # typecast float columns"
   ]
  },
  {
   "cell_type": "code",
   "execution_count": 12,
   "metadata": {},
   "outputs": [
    {
     "name": "stderr",
     "output_type": "stream",
     "text": [
      "C:\\Users\\Wenting Zhao\\Anaconda4\\envs\\py36\\lib\\site-packages\\ipykernel_launcher.py:8: SettingWithCopyWarning: \n",
      "A value is trying to be set on a copy of a slice from a DataFrame.\n",
      "Try using .loc[row_indexer,col_indexer] = value instead\n",
      "\n",
      "See the caveats in the documentation: http://pandas.pydata.org/pandas-docs/stable/indexing.html#indexing-view-versus-copy\n",
      "  \n"
     ]
    }
   ],
   "source": [
    "def clean_perc(x):\n",
    "    if pd.isnull(x):\n",
    "        return np.nan\n",
    "    else:\n",
    "        return float(x.strip()[:-1])\n",
    "\n",
    "for i in perc_cols:\n",
    "    final_data[i] = final_data[i].apply(clean_perc) # apply clean_perc to percentage columns"
   ]
  },
  {
   "cell_type": "code",
   "execution_count": 13,
   "metadata": {},
   "outputs": [
    {
     "name": "stderr",
     "output_type": "stream",
     "text": [
      "C:\\Users\\Wenting Zhao\\Anaconda4\\envs\\py36\\lib\\site-packages\\ipykernel_launcher.py:8: SettingWithCopyWarning: \n",
      "A value is trying to be set on a copy of a slice from a DataFrame.\n",
      "Try using .loc[row_indexer,col_indexer] = value instead\n",
      "\n",
      "See the caveats in the documentation: http://pandas.pydata.org/pandas-docs/stable/indexing.html#indexing-view-versus-copy\n",
      "  \n"
     ]
    }
   ],
   "source": [
    "def clean_date(x):\n",
    "    if pd.isnull(x):\n",
    "        return None\n",
    "    else:\n",
    "        return datetime.datetime.strptime( x, \"%b-%Y\").date()\n",
    "\n",
    "for i in date_cols:\n",
    "    final_data[i] = final_data[i].apply(clean_date) # typecast date cloumns to datatime using clean_date"
   ]
  },
  {
   "cell_type": "code",
   "execution_count": 14,
   "metadata": {},
   "outputs": [
    {
     "name": "stderr",
     "output_type": "stream",
     "text": [
      "C:\\Users\\Wenting Zhao\\Anaconda4\\envs\\py36\\lib\\site-packages\\ipykernel_launcher.py:2: SettingWithCopyWarning: \n",
      "A value is trying to be set on a copy of a slice from a DataFrame.\n",
      "Try using .loc[row_indexer,col_indexer] = value instead\n",
      "\n",
      "See the caveats in the documentation: http://pandas.pydata.org/pandas-docs/stable/indexing.html#indexing-view-versus-copy\n",
      "  \n",
      "C:\\Users\\Wenting Zhao\\Anaconda4\\envs\\py36\\lib\\site-packages\\ipykernel_launcher.py:3: SettingWithCopyWarning: \n",
      "A value is trying to be set on a copy of a slice from a DataFrame.\n",
      "Try using .loc[row_indexer,col_indexer] = value instead\n",
      "\n",
      "See the caveats in the documentation: http://pandas.pydata.org/pandas-docs/stable/indexing.html#indexing-view-versus-copy\n",
      "  This is separate from the ipykernel package so we can avoid doing imports until\n"
     ]
    }
   ],
   "source": [
    "for i in cat_cols:\n",
    "    final_data[i] = final_data[i].replace(np.nan, None, regex=True)\n",
    "    final_data[i] = final_data[i].replace(r'\\s+', None, regex=True,)# for categorical features if the value is null/empty set it to None"
   ]
  },
  {
   "cell_type": "markdown",
   "metadata": {},
   "source": [
    "## Calculate returns for each loan"
   ]
  },
  {
   "cell_type": "code",
   "execution_count": 15,
   "metadata": {},
   "outputs": [],
   "source": [
    "# Define the names of the four returns we'll be calculating as described in Q.6\n",
    "# ret_PESS: Pessimistic return\n",
    "# ret_OPT: Optimistic return\n",
    "# ret_INTa, ret_INTb: Method3 at two differnt values of \"i\"\n",
    "ret_cols = [\"ret_PESS\", \"ret_OPT\", \"ret_INTa\", \"ret_INTb\"]"
   ]
  },
  {
   "cell_type": "code",
   "execution_count": 16,
   "metadata": {},
   "outputs": [
    {
     "name": "stderr",
     "output_type": "stream",
     "text": [
      "C:\\Users\\Wenting Zhao\\Anaconda4\\envs\\py36\\lib\\site-packages\\ipykernel_launcher.py:2: SettingWithCopyWarning: \n",
      "A value is trying to be set on a copy of a slice from a DataFrame.\n",
      "Try using .loc[row_indexer,col_indexer] = value instead\n",
      "\n",
      "See the caveats in the documentation: http://pandas.pydata.org/pandas-docs/stable/indexing.html#indexing-view-versus-copy\n",
      "  \n"
     ]
    },
    {
     "name": "stdout",
     "output_type": "stream",
     "text": [
      "Removed 6218 rows\n"
     ]
    }
   ],
   "source": [
    "# Remove all rows for loans that were paid back on the days they were issued\n",
    "final_data['loan_length'] = (final_data.last_pymnt_d - final_data.issue_d) / np.timedelta64(1, 'M')\n",
    "n_rows = len(final_data)\n",
    "\n",
    "loan_length_greater_than_0 = final_data['loan_length'] != 0\n",
    "final_data = final_data[loan_length_greater_than_0] # select rows where loan_length is not 0. \n",
    "\n",
    "print(\"Removed \" + str(n_rows - len(final_data)) + \" rows\")"
   ]
  },
  {
   "cell_type": "markdown",
   "metadata": {},
   "source": [
    "### M1-Pessimistic Method"
   ]
  },
  {
   "cell_type": "code",
   "execution_count": 17,
   "metadata": {},
   "outputs": [],
   "source": [
    "# Calculate the return using a simple annualized profit margin\n",
    "# Pessimistic definition (Handout 6a.) (M1)\n",
    "\n",
    "final_data['term_num'] = final_data.term.str.extract('(\\d+)',expand=False).astype(int) # length of loan in months\n",
    "\n",
    "final_data['ret_PESS'] = ((final_data['total_pymnt'] - final_data['funded_amnt']) / \n",
    "                          final_data['funded_amnt']) * (12 / final_data['term_num'])"
   ]
  },
  {
   "cell_type": "markdown",
   "metadata": {},
   "source": [
    "### M2-Optimistic Method"
   ]
  },
  {
   "cell_type": "code",
   "execution_count": 18,
   "metadata": {},
   "outputs": [],
   "source": [
    "# Assuming that if a loan gives a positive return, we can\n",
    "# immediately find a similar loan to invest in; if the loan\n",
    "# takes a loss, we use M1-pessimistic to compute the return\n",
    "\n",
    "final_data['ret_OPT'] = ((final_data['total_pymnt'] - final_data['funded_amnt']) / \n",
    "                          final_data['funded_amnt']) * (12 / round(final_data['loan_length']))\n",
    "\n",
    "final_data.loc[final_data.ret_OPT < 0,'ret_OPT'] = ((final_data['total_pymnt'] - final_data['funded_amnt']) / \n",
    "                          final_data['funded_amnt']) * (12 / final_data['term_num'])"
   ]
  },
  {
   "cell_type": "markdown",
   "metadata": {},
   "source": [
    "### Method 3"
   ]
  },
  {
   "cell_type": "code",
   "execution_count": 19,
   "metadata": {},
   "outputs": [],
   "source": [
    "def ret_method_3(T, i):\n",
    "    '''\n",
    "    Given an investment time horizon (in months) and re-investment\n",
    "    interest rate, calculate the return of each loan\n",
    "    '''\n",
    "    \n",
    "    # Assuming that the total amount paid back was paid at equal\n",
    "    # intervals during the duration of the loan, calculate the\n",
    "    # size of each of these installment\n",
    "    actual_installment = (final_data.total_pymnt - final_data.recoveries) /round(final_data.loan_length)\n",
    "\n",
    "    # Assuming the amount is immediately re-invested at the prime\n",
    "    # rate, find the total amount of money we'll have by the end\n",
    "    # of the loan\n",
    "    cash_by_end_of_loan = actual_installment* (1-(1+i)**round(final_data.loan_length))/(1-(1+i)) # compute the quantity given in [] in eq.2.3 of handout\n",
    "    cash_by_end_of_loan = cash_by_end_of_loan + final_data.recoveries\n",
    "    \n",
    "    # Assuming that cash is then re-invested at the prime rate,\n",
    "    # with monthly re-investment, until T months from the start\n",
    "    # of the loan\n",
    "    remaining_months = T - round(final_data['loan_length'])\n",
    "    final_return = cash_by_end_of_loan *((1+i)**remaining_months)\n",
    "\n",
    "    # Find the percentage return\n",
    "    ret_val = (12/T) * (final_return-final_data['funded_amnt'])/final_data['funded_amnt']\n",
    "    return ret_val"
   ]
  },
  {
   "cell_type": "code",
   "execution_count": 20,
   "metadata": {},
   "outputs": [],
   "source": [
    "final_data['ret_INTa'] = ret_method_3(60,0.002) # call ret_method_3 with T=60, i=0.002\n",
    "final_data['ret_INTb'] = ret_method_3(60,0.005) # call ret_method_3 with T=60, i=0.005"
   ]
  },
  {
   "cell_type": "code",
   "execution_count": 21,
   "metadata": {},
   "outputs": [
    {
     "data": {
      "text/html": [
       "<div>\n",
       "<style scoped>\n",
       "    .dataframe tbody tr th:only-of-type {\n",
       "        vertical-align: middle;\n",
       "    }\n",
       "\n",
       "    .dataframe tbody tr th {\n",
       "        vertical-align: top;\n",
       "    }\n",
       "\n",
       "    .dataframe thead th {\n",
       "        text-align: right;\n",
       "    }\n",
       "</style>\n",
       "<table border=\"1\" class=\"dataframe\">\n",
       "  <thead>\n",
       "    <tr style=\"text-align: right;\">\n",
       "      <th></th>\n",
       "      <th>id</th>\n",
       "      <th>loan_amnt</th>\n",
       "      <th>funded_amnt</th>\n",
       "      <th>term</th>\n",
       "      <th>int_rate</th>\n",
       "      <th>installment</th>\n",
       "      <th>grade</th>\n",
       "      <th>emp_length</th>\n",
       "      <th>home_ownership</th>\n",
       "      <th>annual_inc</th>\n",
       "      <th>...</th>\n",
       "      <th>revol_util</th>\n",
       "      <th>total_pymnt</th>\n",
       "      <th>recoveries</th>\n",
       "      <th>last_pymnt_d</th>\n",
       "      <th>loan_length</th>\n",
       "      <th>term_num</th>\n",
       "      <th>ret_PESS</th>\n",
       "      <th>ret_OPT</th>\n",
       "      <th>ret_INTa</th>\n",
       "      <th>ret_INTb</th>\n",
       "    </tr>\n",
       "  </thead>\n",
       "  <tbody>\n",
       "    <tr>\n",
       "      <th>0</th>\n",
       "      <td>1077501</td>\n",
       "      <td>5000.0</td>\n",
       "      <td>5000.0</td>\n",
       "      <td>36 months</td>\n",
       "      <td>10.65</td>\n",
       "      <td>162.87</td>\n",
       "      <td>B</td>\n",
       "      <td>10+ years</td>\n",
       "      <td>RENT</td>\n",
       "      <td>24000.00</td>\n",
       "      <td>...</td>\n",
       "      <td>83.70</td>\n",
       "      <td>5863.155187</td>\n",
       "      <td>0.00</td>\n",
       "      <td>2015-01-01</td>\n",
       "      <td>37.027454</td>\n",
       "      <td>36</td>\n",
       "      <td>0.057544</td>\n",
       "      <td>0.055988</td>\n",
       "      <td>0.054605</td>\n",
       "      <td>0.088148</td>\n",
       "    </tr>\n",
       "    <tr>\n",
       "      <th>1</th>\n",
       "      <td>1077430</td>\n",
       "      <td>2500.0</td>\n",
       "      <td>2500.0</td>\n",
       "      <td>60 months</td>\n",
       "      <td>15.27</td>\n",
       "      <td>59.83</td>\n",
       "      <td>C</td>\n",
       "      <td>&lt; 1 year</td>\n",
       "      <td>RENT</td>\n",
       "      <td>30000.00</td>\n",
       "      <td>...</td>\n",
       "      <td>9.40</td>\n",
       "      <td>1014.530000</td>\n",
       "      <td>122.90</td>\n",
       "      <td>2013-04-01</td>\n",
       "      <td>16.000329</td>\n",
       "      <td>60</td>\n",
       "      <td>-0.118838</td>\n",
       "      <td>-0.118838</td>\n",
       "      <td>-0.110200</td>\n",
       "      <td>-0.095511</td>\n",
       "    </tr>\n",
       "    <tr>\n",
       "      <th>2</th>\n",
       "      <td>1077175</td>\n",
       "      <td>2400.0</td>\n",
       "      <td>2400.0</td>\n",
       "      <td>36 months</td>\n",
       "      <td>15.96</td>\n",
       "      <td>84.33</td>\n",
       "      <td>C</td>\n",
       "      <td>10+ years</td>\n",
       "      <td>RENT</td>\n",
       "      <td>12252.00</td>\n",
       "      <td>...</td>\n",
       "      <td>98.50</td>\n",
       "      <td>3005.666844</td>\n",
       "      <td>0.00</td>\n",
       "      <td>2014-06-01</td>\n",
       "      <td>29.996509</td>\n",
       "      <td>36</td>\n",
       "      <td>0.084120</td>\n",
       "      <td>0.100944</td>\n",
       "      <td>0.073803</td>\n",
       "      <td>0.113007</td>\n",
       "    </tr>\n",
       "    <tr>\n",
       "      <th>3</th>\n",
       "      <td>1076863</td>\n",
       "      <td>10000.0</td>\n",
       "      <td>10000.0</td>\n",
       "      <td>36 months</td>\n",
       "      <td>13.49</td>\n",
       "      <td>339.31</td>\n",
       "      <td>C</td>\n",
       "      <td>10+ years</td>\n",
       "      <td>RENT</td>\n",
       "      <td>49200.00</td>\n",
       "      <td>...</td>\n",
       "      <td>21.00</td>\n",
       "      <td>12231.890000</td>\n",
       "      <td>0.00</td>\n",
       "      <td>2015-01-01</td>\n",
       "      <td>37.027454</td>\n",
       "      <td>36</td>\n",
       "      <td>0.074396</td>\n",
       "      <td>0.072386</td>\n",
       "      <td>0.065582</td>\n",
       "      <td>0.100571</td>\n",
       "    </tr>\n",
       "    <tr>\n",
       "      <th>4</th>\n",
       "      <td>1075358</td>\n",
       "      <td>3000.0</td>\n",
       "      <td>3000.0</td>\n",
       "      <td>60 months</td>\n",
       "      <td>12.69</td>\n",
       "      <td>67.79</td>\n",
       "      <td>B</td>\n",
       "      <td>1 year</td>\n",
       "      <td>RENT</td>\n",
       "      <td>80000.00</td>\n",
       "      <td>...</td>\n",
       "      <td>53.90</td>\n",
       "      <td>4066.908161</td>\n",
       "      <td>0.00</td>\n",
       "      <td>2017-01-01</td>\n",
       "      <td>61.044375</td>\n",
       "      <td>60</td>\n",
       "      <td>0.071127</td>\n",
       "      <td>0.069961</td>\n",
       "      <td>0.087479</td>\n",
       "      <td>0.114530</td>\n",
       "    </tr>\n",
       "    <tr>\n",
       "      <th>5</th>\n",
       "      <td>1075269</td>\n",
       "      <td>5000.0</td>\n",
       "      <td>5000.0</td>\n",
       "      <td>36 months</td>\n",
       "      <td>7.90</td>\n",
       "      <td>156.46</td>\n",
       "      <td>A</td>\n",
       "      <td>3 years</td>\n",
       "      <td>RENT</td>\n",
       "      <td>36000.00</td>\n",
       "      <td>...</td>\n",
       "      <td>28.30</td>\n",
       "      <td>5632.210000</td>\n",
       "      <td>0.00</td>\n",
       "      <td>2015-01-01</td>\n",
       "      <td>37.027454</td>\n",
       "      <td>36</td>\n",
       "      <td>0.042147</td>\n",
       "      <td>0.041008</td>\n",
       "      <td>0.044576</td>\n",
       "      <td>0.076798</td>\n",
       "    </tr>\n",
       "    <tr>\n",
       "      <th>6</th>\n",
       "      <td>1069639</td>\n",
       "      <td>7000.0</td>\n",
       "      <td>7000.0</td>\n",
       "      <td>60 months</td>\n",
       "      <td>15.96</td>\n",
       "      <td>170.08</td>\n",
       "      <td>C</td>\n",
       "      <td>8 years</td>\n",
       "      <td>RENT</td>\n",
       "      <td>47004.00</td>\n",
       "      <td>...</td>\n",
       "      <td>85.60</td>\n",
       "      <td>10137.840008</td>\n",
       "      <td>0.00</td>\n",
       "      <td>2016-05-01</td>\n",
       "      <td>52.994928</td>\n",
       "      <td>60</td>\n",
       "      <td>0.089653</td>\n",
       "      <td>0.101493</td>\n",
       "      <td>0.109539</td>\n",
       "      <td>0.142469</td>\n",
       "    </tr>\n",
       "    <tr>\n",
       "      <th>7</th>\n",
       "      <td>1072053</td>\n",
       "      <td>3000.0</td>\n",
       "      <td>3000.0</td>\n",
       "      <td>36 months</td>\n",
       "      <td>18.64</td>\n",
       "      <td>109.43</td>\n",
       "      <td>E</td>\n",
       "      <td>9 years</td>\n",
       "      <td>RENT</td>\n",
       "      <td>48000.00</td>\n",
       "      <td>...</td>\n",
       "      <td>87.50</td>\n",
       "      <td>3939.135294</td>\n",
       "      <td>0.00</td>\n",
       "      <td>2015-01-01</td>\n",
       "      <td>37.027454</td>\n",
       "      <td>36</td>\n",
       "      <td>0.104348</td>\n",
       "      <td>0.101528</td>\n",
       "      <td>0.085092</td>\n",
       "      <td>0.122652</td>\n",
       "    </tr>\n",
       "    <tr>\n",
       "      <th>8</th>\n",
       "      <td>1071795</td>\n",
       "      <td>5600.0</td>\n",
       "      <td>5600.0</td>\n",
       "      <td>60 months</td>\n",
       "      <td>21.28</td>\n",
       "      <td>152.39</td>\n",
       "      <td>F</td>\n",
       "      <td>4 years</td>\n",
       "      <td>OWN</td>\n",
       "      <td>40000.00</td>\n",
       "      <td>...</td>\n",
       "      <td>32.60</td>\n",
       "      <td>647.500000</td>\n",
       "      <td>190.54</td>\n",
       "      <td>2012-04-01</td>\n",
       "      <td>4.008296</td>\n",
       "      <td>60</td>\n",
       "      <td>-0.176875</td>\n",
       "      <td>-0.176875</td>\n",
       "      <td>-0.174082</td>\n",
       "      <td>-0.169262</td>\n",
       "    </tr>\n",
       "    <tr>\n",
       "      <th>9</th>\n",
       "      <td>1071570</td>\n",
       "      <td>5375.0</td>\n",
       "      <td>5375.0</td>\n",
       "      <td>60 months</td>\n",
       "      <td>12.69</td>\n",
       "      <td>121.45</td>\n",
       "      <td>B</td>\n",
       "      <td>&lt; 1 year</td>\n",
       "      <td>RENT</td>\n",
       "      <td>15000.00</td>\n",
       "      <td>...</td>\n",
       "      <td>36.50</td>\n",
       "      <td>1484.590000</td>\n",
       "      <td>277.69</td>\n",
       "      <td>2012-11-01</td>\n",
       "      <td>11.039241</td>\n",
       "      <td>60</td>\n",
       "      <td>-0.144759</td>\n",
       "      <td>-0.144759</td>\n",
       "      <td>-0.138579</td>\n",
       "      <td>-0.128011</td>\n",
       "    </tr>\n",
       "    <tr>\n",
       "      <th>10</th>\n",
       "      <td>1070078</td>\n",
       "      <td>6500.0</td>\n",
       "      <td>6500.0</td>\n",
       "      <td>60 months</td>\n",
       "      <td>14.65</td>\n",
       "      <td>153.45</td>\n",
       "      <td>C</td>\n",
       "      <td>5 years</td>\n",
       "      <td>OWN</td>\n",
       "      <td>72000.00</td>\n",
       "      <td>...</td>\n",
       "      <td>20.60</td>\n",
       "      <td>7678.017673</td>\n",
       "      <td>0.00</td>\n",
       "      <td>2013-06-01</td>\n",
       "      <td>18.004476</td>\n",
       "      <td>60</td>\n",
       "      <td>0.036247</td>\n",
       "      <td>0.120822</td>\n",
       "      <td>0.061342</td>\n",
       "      <td>0.104017</td>\n",
       "    </tr>\n",
       "    <tr>\n",
       "      <th>11</th>\n",
       "      <td>1069908</td>\n",
       "      <td>12000.0</td>\n",
       "      <td>12000.0</td>\n",
       "      <td>36 months</td>\n",
       "      <td>12.69</td>\n",
       "      <td>402.54</td>\n",
       "      <td>B</td>\n",
       "      <td>10+ years</td>\n",
       "      <td>OWN</td>\n",
       "      <td>75000.00</td>\n",
       "      <td>...</td>\n",
       "      <td>67.10</td>\n",
       "      <td>13947.989155</td>\n",
       "      <td>0.00</td>\n",
       "      <td>2013-09-01</td>\n",
       "      <td>21.027126</td>\n",
       "      <td>36</td>\n",
       "      <td>0.054111</td>\n",
       "      <td>0.092761</td>\n",
       "      <td>0.056396</td>\n",
       "      <td>0.096958</td>\n",
       "    </tr>\n",
       "    <tr>\n",
       "      <th>12</th>\n",
       "      <td>1064687</td>\n",
       "      <td>9000.0</td>\n",
       "      <td>9000.0</td>\n",
       "      <td>36 months</td>\n",
       "      <td>13.49</td>\n",
       "      <td>305.38</td>\n",
       "      <td>C</td>\n",
       "      <td>&lt; 1 year</td>\n",
       "      <td>RENT</td>\n",
       "      <td>30000.00</td>\n",
       "      <td>...</td>\n",
       "      <td>91.70</td>\n",
       "      <td>2277.320000</td>\n",
       "      <td>450.92</td>\n",
       "      <td>2012-07-01</td>\n",
       "      <td>6.998090</td>\n",
       "      <td>36</td>\n",
       "      <td>-0.248988</td>\n",
       "      <td>-0.248988</td>\n",
       "      <td>-0.143468</td>\n",
       "      <td>-0.133281</td>\n",
       "    </tr>\n",
       "    <tr>\n",
       "      <th>13</th>\n",
       "      <td>1069866</td>\n",
       "      <td>3000.0</td>\n",
       "      <td>3000.0</td>\n",
       "      <td>36 months</td>\n",
       "      <td>9.91</td>\n",
       "      <td>96.68</td>\n",
       "      <td>B</td>\n",
       "      <td>3 years</td>\n",
       "      <td>RENT</td>\n",
       "      <td>15000.00</td>\n",
       "      <td>...</td>\n",
       "      <td>43.10</td>\n",
       "      <td>3480.269999</td>\n",
       "      <td>0.00</td>\n",
       "      <td>2015-01-01</td>\n",
       "      <td>37.027454</td>\n",
       "      <td>36</td>\n",
       "      <td>0.053363</td>\n",
       "      <td>0.051921</td>\n",
       "      <td>0.051882</td>\n",
       "      <td>0.085066</td>\n",
       "    </tr>\n",
       "    <tr>\n",
       "      <th>14</th>\n",
       "      <td>1069057</td>\n",
       "      <td>10000.0</td>\n",
       "      <td>10000.0</td>\n",
       "      <td>36 months</td>\n",
       "      <td>10.65</td>\n",
       "      <td>325.74</td>\n",
       "      <td>B</td>\n",
       "      <td>3 years</td>\n",
       "      <td>RENT</td>\n",
       "      <td>100000.00</td>\n",
       "      <td>...</td>\n",
       "      <td>55.50</td>\n",
       "      <td>7471.990000</td>\n",
       "      <td>645.10</td>\n",
       "      <td>2013-10-01</td>\n",
       "      <td>22.012772</td>\n",
       "      <td>36</td>\n",
       "      <td>-0.084267</td>\n",
       "      <td>-0.084267</td>\n",
       "      <td>-0.035637</td>\n",
       "      <td>-0.010416</td>\n",
       "    </tr>\n",
       "    <tr>\n",
       "      <th>15</th>\n",
       "      <td>1069759</td>\n",
       "      <td>1000.0</td>\n",
       "      <td>1000.0</td>\n",
       "      <td>36 months</td>\n",
       "      <td>16.29</td>\n",
       "      <td>35.31</td>\n",
       "      <td>D</td>\n",
       "      <td>&lt; 1 year</td>\n",
       "      <td>RENT</td>\n",
       "      <td>28000.00</td>\n",
       "      <td>...</td>\n",
       "      <td>81.50</td>\n",
       "      <td>1270.716942</td>\n",
       "      <td>0.00</td>\n",
       "      <td>2015-01-01</td>\n",
       "      <td>37.027454</td>\n",
       "      <td>36</td>\n",
       "      <td>0.090239</td>\n",
       "      <td>0.087800</td>\n",
       "      <td>0.075902</td>\n",
       "      <td>0.112250</td>\n",
       "    </tr>\n",
       "    <tr>\n",
       "      <th>16</th>\n",
       "      <td>1065775</td>\n",
       "      <td>10000.0</td>\n",
       "      <td>10000.0</td>\n",
       "      <td>36 months</td>\n",
       "      <td>15.27</td>\n",
       "      <td>347.98</td>\n",
       "      <td>C</td>\n",
       "      <td>4 years</td>\n",
       "      <td>RENT</td>\n",
       "      <td>42000.00</td>\n",
       "      <td>...</td>\n",
       "      <td>70.20</td>\n",
       "      <td>12527.150000</td>\n",
       "      <td>0.00</td>\n",
       "      <td>2015-01-01</td>\n",
       "      <td>37.027454</td>\n",
       "      <td>36</td>\n",
       "      <td>0.084238</td>\n",
       "      <td>0.081962</td>\n",
       "      <td>0.071993</td>\n",
       "      <td>0.107827</td>\n",
       "    </tr>\n",
       "    <tr>\n",
       "      <th>17</th>\n",
       "      <td>1069971</td>\n",
       "      <td>3600.0</td>\n",
       "      <td>3600.0</td>\n",
       "      <td>36 months</td>\n",
       "      <td>6.03</td>\n",
       "      <td>109.57</td>\n",
       "      <td>A</td>\n",
       "      <td>10+ years</td>\n",
       "      <td>MORTGAGE</td>\n",
       "      <td>110000.00</td>\n",
       "      <td>...</td>\n",
       "      <td>16.00</td>\n",
       "      <td>3785.271965</td>\n",
       "      <td>0.00</td>\n",
       "      <td>2013-05-01</td>\n",
       "      <td>16.985975</td>\n",
       "      <td>36</td>\n",
       "      <td>0.017155</td>\n",
       "      <td>0.036328</td>\n",
       "      <td>0.032862</td>\n",
       "      <td>0.071283</td>\n",
       "    </tr>\n",
       "    <tr>\n",
       "      <th>18</th>\n",
       "      <td>1062474</td>\n",
       "      <td>6000.0</td>\n",
       "      <td>6000.0</td>\n",
       "      <td>36 months</td>\n",
       "      <td>11.71</td>\n",
       "      <td>198.46</td>\n",
       "      <td>B</td>\n",
       "      <td>1 year</td>\n",
       "      <td>MORTGAGE</td>\n",
       "      <td>84000.00</td>\n",
       "      <td>...</td>\n",
       "      <td>37.73</td>\n",
       "      <td>7167.072893</td>\n",
       "      <td>0.00</td>\n",
       "      <td>2015-02-01</td>\n",
       "      <td>38.045956</td>\n",
       "      <td>36</td>\n",
       "      <td>0.064837</td>\n",
       "      <td>0.061425</td>\n",
       "      <td>0.059100</td>\n",
       "      <td>0.092816</td>\n",
       "    </tr>\n",
       "    <tr>\n",
       "      <th>19</th>\n",
       "      <td>1069742</td>\n",
       "      <td>9200.0</td>\n",
       "      <td>9200.0</td>\n",
       "      <td>36 months</td>\n",
       "      <td>6.03</td>\n",
       "      <td>280.01</td>\n",
       "      <td>A</td>\n",
       "      <td>6 years</td>\n",
       "      <td>RENT</td>\n",
       "      <td>77385.19</td>\n",
       "      <td>...</td>\n",
       "      <td>23.10</td>\n",
       "      <td>9460.000848</td>\n",
       "      <td>0.00</td>\n",
       "      <td>2012-07-01</td>\n",
       "      <td>6.998090</td>\n",
       "      <td>36</td>\n",
       "      <td>0.009420</td>\n",
       "      <td>0.048447</td>\n",
       "      <td>0.030001</td>\n",
       "      <td>0.071928</td>\n",
       "    </tr>\n",
       "    <tr>\n",
       "      <th>20</th>\n",
       "      <td>1069740</td>\n",
       "      <td>20250.0</td>\n",
       "      <td>20250.0</td>\n",
       "      <td>60 months</td>\n",
       "      <td>15.27</td>\n",
       "      <td>484.63</td>\n",
       "      <td>C</td>\n",
       "      <td>3 years</td>\n",
       "      <td>RENT</td>\n",
       "      <td>43370.00</td>\n",
       "      <td>...</td>\n",
       "      <td>85.60</td>\n",
       "      <td>27679.049997</td>\n",
       "      <td>0.00</td>\n",
       "      <td>2015-08-01</td>\n",
       "      <td>43.992690</td>\n",
       "      <td>60</td>\n",
       "      <td>0.073373</td>\n",
       "      <td>0.100055</td>\n",
       "      <td>0.094738</td>\n",
       "      <td>0.130259</td>\n",
       "    </tr>\n",
       "    <tr>\n",
       "      <th>21</th>\n",
       "      <td>1039153</td>\n",
       "      <td>21000.0</td>\n",
       "      <td>21000.0</td>\n",
       "      <td>36 months</td>\n",
       "      <td>12.42</td>\n",
       "      <td>701.73</td>\n",
       "      <td>B</td>\n",
       "      <td>10+ years</td>\n",
       "      <td>RENT</td>\n",
       "      <td>105000.00</td>\n",
       "      <td>...</td>\n",
       "      <td>90.30</td>\n",
       "      <td>14034.600000</td>\n",
       "      <td>9.20</td>\n",
       "      <td>2013-09-01</td>\n",
       "      <td>21.027126</td>\n",
       "      <td>36</td>\n",
       "      <td>-0.110562</td>\n",
       "      <td>-0.110562</td>\n",
       "      <td>-0.052580</td>\n",
       "      <td>-0.029261</td>\n",
       "    </tr>\n",
       "    <tr>\n",
       "      <th>22</th>\n",
       "      <td>1069710</td>\n",
       "      <td>10000.0</td>\n",
       "      <td>10000.0</td>\n",
       "      <td>36 months</td>\n",
       "      <td>11.71</td>\n",
       "      <td>330.76</td>\n",
       "      <td>B</td>\n",
       "      <td>10+ years</td>\n",
       "      <td>OWN</td>\n",
       "      <td>50000.00</td>\n",
       "      <td>...</td>\n",
       "      <td>82.40</td>\n",
       "      <td>11907.350000</td>\n",
       "      <td>0.00</td>\n",
       "      <td>2015-01-01</td>\n",
       "      <td>37.027454</td>\n",
       "      <td>36</td>\n",
       "      <td>0.063578</td>\n",
       "      <td>0.061860</td>\n",
       "      <td>0.058536</td>\n",
       "      <td>0.092597</td>\n",
       "    </tr>\n",
       "    <tr>\n",
       "      <th>23</th>\n",
       "      <td>1069700</td>\n",
       "      <td>10000.0</td>\n",
       "      <td>10000.0</td>\n",
       "      <td>36 months</td>\n",
       "      <td>11.71</td>\n",
       "      <td>330.76</td>\n",
       "      <td>B</td>\n",
       "      <td>5 years</td>\n",
       "      <td>RENT</td>\n",
       "      <td>50000.00</td>\n",
       "      <td>...</td>\n",
       "      <td>91.80</td>\n",
       "      <td>11540.891977</td>\n",
       "      <td>0.00</td>\n",
       "      <td>2013-10-01</td>\n",
       "      <td>22.012772</td>\n",
       "      <td>36</td>\n",
       "      <td>0.051363</td>\n",
       "      <td>0.084049</td>\n",
       "      <td>0.054325</td>\n",
       "      <td>0.094131</td>\n",
       "    </tr>\n",
       "    <tr>\n",
       "      <th>24</th>\n",
       "      <td>1069559</td>\n",
       "      <td>6000.0</td>\n",
       "      <td>6000.0</td>\n",
       "      <td>36 months</td>\n",
       "      <td>11.71</td>\n",
       "      <td>198.46</td>\n",
       "      <td>B</td>\n",
       "      <td>1 year</td>\n",
       "      <td>RENT</td>\n",
       "      <td>76000.00</td>\n",
       "      <td>...</td>\n",
       "      <td>29.70</td>\n",
       "      <td>2055.850000</td>\n",
       "      <td>275.02</td>\n",
       "      <td>2012-10-01</td>\n",
       "      <td>10.020740</td>\n",
       "      <td>36</td>\n",
       "      <td>-0.219119</td>\n",
       "      <td>-0.219119</td>\n",
       "      <td>-0.123679</td>\n",
       "      <td>-0.110326</td>\n",
       "    </tr>\n",
       "    <tr>\n",
       "      <th>25</th>\n",
       "      <td>1069697</td>\n",
       "      <td>15000.0</td>\n",
       "      <td>15000.0</td>\n",
       "      <td>36 months</td>\n",
       "      <td>9.91</td>\n",
       "      <td>483.38</td>\n",
       "      <td>B</td>\n",
       "      <td>2 years</td>\n",
       "      <td>MORTGAGE</td>\n",
       "      <td>92000.00</td>\n",
       "      <td>...</td>\n",
       "      <td>93.90</td>\n",
       "      <td>15823.999049</td>\n",
       "      <td>0.00</td>\n",
       "      <td>2012-09-01</td>\n",
       "      <td>9.035093</td>\n",
       "      <td>36</td>\n",
       "      <td>0.018311</td>\n",
       "      <td>0.073244</td>\n",
       "      <td>0.035497</td>\n",
       "      <td>0.077603</td>\n",
       "    </tr>\n",
       "    <tr>\n",
       "      <th>26</th>\n",
       "      <td>1069800</td>\n",
       "      <td>15000.0</td>\n",
       "      <td>15000.0</td>\n",
       "      <td>36 months</td>\n",
       "      <td>14.27</td>\n",
       "      <td>514.64</td>\n",
       "      <td>C</td>\n",
       "      <td>9 years</td>\n",
       "      <td>RENT</td>\n",
       "      <td>60000.00</td>\n",
       "      <td>...</td>\n",
       "      <td>57.60</td>\n",
       "      <td>0.000000</td>\n",
       "      <td>0.00</td>\n",
       "      <td>None</td>\n",
       "      <td>NaN</td>\n",
       "      <td>36</td>\n",
       "      <td>-0.333333</td>\n",
       "      <td>NaN</td>\n",
       "      <td>NaN</td>\n",
       "      <td>NaN</td>\n",
       "    </tr>\n",
       "    <tr>\n",
       "      <th>27</th>\n",
       "      <td>1069657</td>\n",
       "      <td>5000.0</td>\n",
       "      <td>5000.0</td>\n",
       "      <td>60 months</td>\n",
       "      <td>16.77</td>\n",
       "      <td>123.65</td>\n",
       "      <td>D</td>\n",
       "      <td>2 years</td>\n",
       "      <td>RENT</td>\n",
       "      <td>50004.00</td>\n",
       "      <td>...</td>\n",
       "      <td>59.50</td>\n",
       "      <td>1611.160000</td>\n",
       "      <td>263.00</td>\n",
       "      <td>2012-12-01</td>\n",
       "      <td>12.024888</td>\n",
       "      <td>60</td>\n",
       "      <td>-0.135554</td>\n",
       "      <td>-0.135554</td>\n",
       "      <td>-0.128410</td>\n",
       "      <td>-0.116206</td>\n",
       "    </tr>\n",
       "    <tr>\n",
       "      <th>28</th>\n",
       "      <td>1069799</td>\n",
       "      <td>4000.0</td>\n",
       "      <td>4000.0</td>\n",
       "      <td>36 months</td>\n",
       "      <td>11.71</td>\n",
       "      <td>132.31</td>\n",
       "      <td>B</td>\n",
       "      <td>10+ years</td>\n",
       "      <td>MORTGAGE</td>\n",
       "      <td>106000.00</td>\n",
       "      <td>...</td>\n",
       "      <td>37.70</td>\n",
       "      <td>4486.293519</td>\n",
       "      <td>0.00</td>\n",
       "      <td>2013-04-01</td>\n",
       "      <td>16.000329</td>\n",
       "      <td>36</td>\n",
       "      <td>0.040524</td>\n",
       "      <td>0.091180</td>\n",
       "      <td>0.048636</td>\n",
       "      <td>0.090085</td>\n",
       "    </tr>\n",
       "    <tr>\n",
       "      <th>29</th>\n",
       "      <td>1047704</td>\n",
       "      <td>8500.0</td>\n",
       "      <td>8500.0</td>\n",
       "      <td>36 months</td>\n",
       "      <td>11.71</td>\n",
       "      <td>281.15</td>\n",
       "      <td>B</td>\n",
       "      <td>&lt; 1 year</td>\n",
       "      <td>RENT</td>\n",
       "      <td>25000.00</td>\n",
       "      <td>...</td>\n",
       "      <td>59.10</td>\n",
       "      <td>10126.088441</td>\n",
       "      <td>0.00</td>\n",
       "      <td>2014-12-01</td>\n",
       "      <td>36.008953</td>\n",
       "      <td>36</td>\n",
       "      <td>0.063768</td>\n",
       "      <td>0.063768</td>\n",
       "      <td>0.058915</td>\n",
       "      <td>0.093445</td>\n",
       "    </tr>\n",
       "    <tr>\n",
       "      <th>...</th>\n",
       "      <td>...</td>\n",
       "      <td>...</td>\n",
       "      <td>...</td>\n",
       "      <td>...</td>\n",
       "      <td>...</td>\n",
       "      <td>...</td>\n",
       "      <td>...</td>\n",
       "      <td>...</td>\n",
       "      <td>...</td>\n",
       "      <td>...</td>\n",
       "      <td>...</td>\n",
       "      <td>...</td>\n",
       "      <td>...</td>\n",
       "      <td>...</td>\n",
       "      <td>...</td>\n",
       "      <td>...</td>\n",
       "      <td>...</td>\n",
       "      <td>...</td>\n",
       "      <td>...</td>\n",
       "      <td>...</td>\n",
       "      <td>...</td>\n",
       "    </tr>\n",
       "    <tr>\n",
       "      <th>1765420</th>\n",
       "      <td>119281569</td>\n",
       "      <td>15000.0</td>\n",
       "      <td>15000.0</td>\n",
       "      <td>60 months</td>\n",
       "      <td>30.75</td>\n",
       "      <td>492.24</td>\n",
       "      <td>F</td>\n",
       "      <td>2 years</td>\n",
       "      <td>RENT</td>\n",
       "      <td>55000.00</td>\n",
       "      <td>...</td>\n",
       "      <td>17.20</td>\n",
       "      <td>16576.734815</td>\n",
       "      <td>0.00</td>\n",
       "      <td>2018-02-01</td>\n",
       "      <td>4.041151</td>\n",
       "      <td>60</td>\n",
       "      <td>0.021023</td>\n",
       "      <td>0.315347</td>\n",
       "      <td>0.047932</td>\n",
       "      <td>0.094437</td>\n",
       "    </tr>\n",
       "    <tr>\n",
       "      <th>1765421</th>\n",
       "      <td>119300207</td>\n",
       "      <td>20700.0</td>\n",
       "      <td>20700.0</td>\n",
       "      <td>60 months</td>\n",
       "      <td>12.62</td>\n",
       "      <td>466.98</td>\n",
       "      <td>C</td>\n",
       "      <td>10+ years</td>\n",
       "      <td>OWN</td>\n",
       "      <td>46000.00</td>\n",
       "      <td>...</td>\n",
       "      <td>33.00</td>\n",
       "      <td>2787.370000</td>\n",
       "      <td>0.00</td>\n",
       "      <td>2018-04-01</td>\n",
       "      <td>5.979589</td>\n",
       "      <td>60</td>\n",
       "      <td>-0.173069</td>\n",
       "      <td>-0.173069</td>\n",
       "      <td>-0.169850</td>\n",
       "      <td>-0.164301</td>\n",
       "    </tr>\n",
       "    <tr>\n",
       "      <th>1765422</th>\n",
       "      <td>119699773</td>\n",
       "      <td>21000.0</td>\n",
       "      <td>21000.0</td>\n",
       "      <td>36 months</td>\n",
       "      <td>17.09</td>\n",
       "      <td>749.65</td>\n",
       "      <td>D</td>\n",
       "      <td>10+ years</td>\n",
       "      <td>MORTGAGE</td>\n",
       "      <td>77000.00</td>\n",
       "      <td>...</td>\n",
       "      <td>42.00</td>\n",
       "      <td>4515.440000</td>\n",
       "      <td>0.00</td>\n",
       "      <td>2018-04-01</td>\n",
       "      <td>5.979589</td>\n",
       "      <td>36</td>\n",
       "      <td>-0.261660</td>\n",
       "      <td>-0.261660</td>\n",
       "      <td>-0.151856</td>\n",
       "      <td>-0.142996</td>\n",
       "    </tr>\n",
       "    <tr>\n",
       "      <th>1765423</th>\n",
       "      <td>119703711</td>\n",
       "      <td>30000.0</td>\n",
       "      <td>30000.0</td>\n",
       "      <td>36 months</td>\n",
       "      <td>21.45</td>\n",
       "      <td>1137.20</td>\n",
       "      <td>D</td>\n",
       "      <td>10+ years</td>\n",
       "      <td>MORTGAGE</td>\n",
       "      <td>94000.00</td>\n",
       "      <td>...</td>\n",
       "      <td>55.90</td>\n",
       "      <td>6867.550000</td>\n",
       "      <td>0.00</td>\n",
       "      <td>2018-04-01</td>\n",
       "      <td>5.979589</td>\n",
       "      <td>36</td>\n",
       "      <td>-0.257027</td>\n",
       "      <td>-0.257027</td>\n",
       "      <td>-0.148745</td>\n",
       "      <td>-0.139311</td>\n",
       "    </tr>\n",
       "    <tr>\n",
       "      <th>1765424</th>\n",
       "      <td>119402310</td>\n",
       "      <td>10000.0</td>\n",
       "      <td>10000.0</td>\n",
       "      <td>36 months</td>\n",
       "      <td>9.44</td>\n",
       "      <td>320.05</td>\n",
       "      <td>B</td>\n",
       "      <td>10+ years</td>\n",
       "      <td>MORTGAGE</td>\n",
       "      <td>103510.00</td>\n",
       "      <td>...</td>\n",
       "      <td>91.00</td>\n",
       "      <td>1907.190000</td>\n",
       "      <td>0.00</td>\n",
       "      <td>2018-04-01</td>\n",
       "      <td>5.979589</td>\n",
       "      <td>36</td>\n",
       "      <td>-0.269760</td>\n",
       "      <td>-0.269760</td>\n",
       "      <td>-0.157298</td>\n",
       "      <td>-0.149438</td>\n",
       "    </tr>\n",
       "    <tr>\n",
       "      <th>1765425</th>\n",
       "      <td>117169380</td>\n",
       "      <td>20000.0</td>\n",
       "      <td>20000.0</td>\n",
       "      <td>36 months</td>\n",
       "      <td>13.59</td>\n",
       "      <td>679.58</td>\n",
       "      <td>C</td>\n",
       "      <td>7 years</td>\n",
       "      <td>MORTGAGE</td>\n",
       "      <td>70000.00</td>\n",
       "      <td>...</td>\n",
       "      <td>38.00</td>\n",
       "      <td>4062.380000</td>\n",
       "      <td>0.00</td>\n",
       "      <td>2018-04-01</td>\n",
       "      <td>5.979589</td>\n",
       "      <td>36</td>\n",
       "      <td>-0.265627</td>\n",
       "      <td>-0.265627</td>\n",
       "      <td>-0.154521</td>\n",
       "      <td>-0.146151</td>\n",
       "    </tr>\n",
       "    <tr>\n",
       "      <th>1765426</th>\n",
       "      <td>119260414</td>\n",
       "      <td>35000.0</td>\n",
       "      <td>35000.0</td>\n",
       "      <td>60 months</td>\n",
       "      <td>30.75</td>\n",
       "      <td>1148.55</td>\n",
       "      <td>F</td>\n",
       "      <td>3 years</td>\n",
       "      <td>OWN</td>\n",
       "      <td>78960.00</td>\n",
       "      <td>...</td>\n",
       "      <td>98.20</td>\n",
       "      <td>6741.820000</td>\n",
       "      <td>0.00</td>\n",
       "      <td>2018-04-01</td>\n",
       "      <td>5.979589</td>\n",
       "      <td>60</td>\n",
       "      <td>-0.161475</td>\n",
       "      <td>-0.161475</td>\n",
       "      <td>-0.156871</td>\n",
       "      <td>-0.148933</td>\n",
       "    </tr>\n",
       "    <tr>\n",
       "      <th>1765427</th>\n",
       "      <td>119342626</td>\n",
       "      <td>16000.0</td>\n",
       "      <td>16000.0</td>\n",
       "      <td>60 months</td>\n",
       "      <td>18.06</td>\n",
       "      <td>406.82</td>\n",
       "      <td>D</td>\n",
       "      <td>&lt; 1 year</td>\n",
       "      <td>MORTGAGE</td>\n",
       "      <td>50000.00</td>\n",
       "      <td>...</td>\n",
       "      <td>24.00</td>\n",
       "      <td>2400.790000</td>\n",
       "      <td>0.00</td>\n",
       "      <td>2018-04-01</td>\n",
       "      <td>5.979589</td>\n",
       "      <td>60</td>\n",
       "      <td>-0.169990</td>\n",
       "      <td>-0.169990</td>\n",
       "      <td>-0.166404</td>\n",
       "      <td>-0.160220</td>\n",
       "    </tr>\n",
       "    <tr>\n",
       "      <th>1765428</th>\n",
       "      <td>119373285</td>\n",
       "      <td>35000.0</td>\n",
       "      <td>35000.0</td>\n",
       "      <td>36 months</td>\n",
       "      <td>7.97</td>\n",
       "      <td>1096.29</td>\n",
       "      <td>A</td>\n",
       "      <td>3 years</td>\n",
       "      <td>MORTGAGE</td>\n",
       "      <td>40000.00</td>\n",
       "      <td>...</td>\n",
       "      <td>34.70</td>\n",
       "      <td>6562.240000</td>\n",
       "      <td>0.00</td>\n",
       "      <td>2018-04-01</td>\n",
       "      <td>5.979589</td>\n",
       "      <td>36</td>\n",
       "      <td>-0.270836</td>\n",
       "      <td>-0.270836</td>\n",
       "      <td>-0.158020</td>\n",
       "      <td>-0.150294</td>\n",
       "    </tr>\n",
       "    <tr>\n",
       "      <th>1765429</th>\n",
       "      <td>119321840</td>\n",
       "      <td>32000.0</td>\n",
       "      <td>32000.0</td>\n",
       "      <td>60 months</td>\n",
       "      <td>28.72</td>\n",
       "      <td>1010.30</td>\n",
       "      <td>F</td>\n",
       "      <td>3 years</td>\n",
       "      <td>OWN</td>\n",
       "      <td>33000.00</td>\n",
       "      <td>...</td>\n",
       "      <td>24.20</td>\n",
       "      <td>5934.160000</td>\n",
       "      <td>0.00</td>\n",
       "      <td>2018-04-01</td>\n",
       "      <td>5.979589</td>\n",
       "      <td>60</td>\n",
       "      <td>-0.162912</td>\n",
       "      <td>-0.162912</td>\n",
       "      <td>-0.158479</td>\n",
       "      <td>-0.150837</td>\n",
       "    </tr>\n",
       "    <tr>\n",
       "      <th>1765430</th>\n",
       "      <td>119394625</td>\n",
       "      <td>10500.0</td>\n",
       "      <td>10500.0</td>\n",
       "      <td>36 months</td>\n",
       "      <td>13.59</td>\n",
       "      <td>356.78</td>\n",
       "      <td>C</td>\n",
       "      <td>3 years</td>\n",
       "      <td>OWN</td>\n",
       "      <td>31000.00</td>\n",
       "      <td>...</td>\n",
       "      <td>54.00</td>\n",
       "      <td>2132.750000</td>\n",
       "      <td>0.00</td>\n",
       "      <td>2018-04-01</td>\n",
       "      <td>5.979589</td>\n",
       "      <td>36</td>\n",
       "      <td>-0.265627</td>\n",
       "      <td>-0.265627</td>\n",
       "      <td>-0.154521</td>\n",
       "      <td>-0.146151</td>\n",
       "    </tr>\n",
       "    <tr>\n",
       "      <th>1765432</th>\n",
       "      <td>119314998</td>\n",
       "      <td>10000.0</td>\n",
       "      <td>10000.0</td>\n",
       "      <td>60 months</td>\n",
       "      <td>28.72</td>\n",
       "      <td>315.72</td>\n",
       "      <td>F</td>\n",
       "      <td>1 year</td>\n",
       "      <td>RENT</td>\n",
       "      <td>48000.00</td>\n",
       "      <td>...</td>\n",
       "      <td>59.00</td>\n",
       "      <td>1878.360000</td>\n",
       "      <td>0.00</td>\n",
       "      <td>2018-04-01</td>\n",
       "      <td>5.979589</td>\n",
       "      <td>60</td>\n",
       "      <td>-0.162433</td>\n",
       "      <td>-0.162433</td>\n",
       "      <td>-0.157943</td>\n",
       "      <td>-0.150203</td>\n",
       "    </tr>\n",
       "    <tr>\n",
       "      <th>1765433</th>\n",
       "      <td>118620436</td>\n",
       "      <td>15000.0</td>\n",
       "      <td>15000.0</td>\n",
       "      <td>36 months</td>\n",
       "      <td>10.91</td>\n",
       "      <td>490.45</td>\n",
       "      <td>B</td>\n",
       "      <td>1 year</td>\n",
       "      <td>RENT</td>\n",
       "      <td>60000.00</td>\n",
       "      <td>...</td>\n",
       "      <td>44.70</td>\n",
       "      <td>2933.610000</td>\n",
       "      <td>0.00</td>\n",
       "      <td>2018-04-01</td>\n",
       "      <td>5.979589</td>\n",
       "      <td>36</td>\n",
       "      <td>-0.268142</td>\n",
       "      <td>-0.268142</td>\n",
       "      <td>-0.156211</td>\n",
       "      <td>-0.148151</td>\n",
       "    </tr>\n",
       "    <tr>\n",
       "      <th>1765434</th>\n",
       "      <td>117880015</td>\n",
       "      <td>35000.0</td>\n",
       "      <td>35000.0</td>\n",
       "      <td>60 months</td>\n",
       "      <td>17.09</td>\n",
       "      <td>871.54</td>\n",
       "      <td>D</td>\n",
       "      <td>&lt; 1 year</td>\n",
       "      <td>MORTGAGE</td>\n",
       "      <td>20736.00</td>\n",
       "      <td>...</td>\n",
       "      <td>96.50</td>\n",
       "      <td>5146.160000</td>\n",
       "      <td>0.00</td>\n",
       "      <td>2018-04-01</td>\n",
       "      <td>5.979589</td>\n",
       "      <td>60</td>\n",
       "      <td>-0.170593</td>\n",
       "      <td>-0.170593</td>\n",
       "      <td>-0.167079</td>\n",
       "      <td>-0.161020</td>\n",
       "    </tr>\n",
       "    <tr>\n",
       "      <th>1765435</th>\n",
       "      <td>119231255</td>\n",
       "      <td>19000.0</td>\n",
       "      <td>19000.0</td>\n",
       "      <td>60 months</td>\n",
       "      <td>14.08</td>\n",
       "      <td>442.89</td>\n",
       "      <td>C</td>\n",
       "      <td>&lt; 1 year</td>\n",
       "      <td>MORTGAGE</td>\n",
       "      <td>49200.00</td>\n",
       "      <td>...</td>\n",
       "      <td>42.20</td>\n",
       "      <td>2642.480000</td>\n",
       "      <td>0.00</td>\n",
       "      <td>2018-04-01</td>\n",
       "      <td>5.979589</td>\n",
       "      <td>60</td>\n",
       "      <td>-0.172184</td>\n",
       "      <td>-0.172184</td>\n",
       "      <td>-0.168860</td>\n",
       "      <td>-0.163129</td>\n",
       "    </tr>\n",
       "    <tr>\n",
       "      <th>1765436</th>\n",
       "      <td>119344895</td>\n",
       "      <td>17950.0</td>\n",
       "      <td>17950.0</td>\n",
       "      <td>60 months</td>\n",
       "      <td>30.17</td>\n",
       "      <td>582.62</td>\n",
       "      <td>F</td>\n",
       "      <td>10+ years</td>\n",
       "      <td>MORTGAGE</td>\n",
       "      <td>53758.00</td>\n",
       "      <td>...</td>\n",
       "      <td>35.90</td>\n",
       "      <td>3420.500000</td>\n",
       "      <td>0.00</td>\n",
       "      <td>2018-04-01</td>\n",
       "      <td>5.979589</td>\n",
       "      <td>60</td>\n",
       "      <td>-0.161889</td>\n",
       "      <td>-0.161889</td>\n",
       "      <td>-0.157334</td>\n",
       "      <td>-0.149481</td>\n",
       "    </tr>\n",
       "    <tr>\n",
       "      <th>1765437</th>\n",
       "      <td>118120119</td>\n",
       "      <td>30000.0</td>\n",
       "      <td>30000.0</td>\n",
       "      <td>60 months</td>\n",
       "      <td>17.09</td>\n",
       "      <td>747.03</td>\n",
       "      <td>D</td>\n",
       "      <td>2 years</td>\n",
       "      <td>RENT</td>\n",
       "      <td>80000.00</td>\n",
       "      <td>...</td>\n",
       "      <td>30.80</td>\n",
       "      <td>3806.370000</td>\n",
       "      <td>0.00</td>\n",
       "      <td>2018-03-01</td>\n",
       "      <td>4.961087</td>\n",
       "      <td>60</td>\n",
       "      <td>-0.174624</td>\n",
       "      <td>-0.174624</td>\n",
       "      <td>-0.171563</td>\n",
       "      <td>-0.166279</td>\n",
       "    </tr>\n",
       "    <tr>\n",
       "      <th>1765438</th>\n",
       "      <td>116788357</td>\n",
       "      <td>18000.0</td>\n",
       "      <td>18000.0</td>\n",
       "      <td>60 months</td>\n",
       "      <td>30.65</td>\n",
       "      <td>589.57</td>\n",
       "      <td>F</td>\n",
       "      <td>10+ years</td>\n",
       "      <td>MORTGAGE</td>\n",
       "      <td>77000.00</td>\n",
       "      <td>...</td>\n",
       "      <td>45.10</td>\n",
       "      <td>2976.160000</td>\n",
       "      <td>0.00</td>\n",
       "      <td>2018-04-01</td>\n",
       "      <td>5.979589</td>\n",
       "      <td>60</td>\n",
       "      <td>-0.166932</td>\n",
       "      <td>-0.166932</td>\n",
       "      <td>-0.162979</td>\n",
       "      <td>-0.156166</td>\n",
       "    </tr>\n",
       "    <tr>\n",
       "      <th>1765439</th>\n",
       "      <td>119361010</td>\n",
       "      <td>15000.0</td>\n",
       "      <td>15000.0</td>\n",
       "      <td>60 months</td>\n",
       "      <td>16.02</td>\n",
       "      <td>364.94</td>\n",
       "      <td>C</td>\n",
       "      <td>&lt; 1 year</td>\n",
       "      <td>RENT</td>\n",
       "      <td>85000.00</td>\n",
       "      <td>...</td>\n",
       "      <td>24.80</td>\n",
       "      <td>16112.317714</td>\n",
       "      <td>0.00</td>\n",
       "      <td>2018-03-01</td>\n",
       "      <td>4.961087</td>\n",
       "      <td>60</td>\n",
       "      <td>0.014831</td>\n",
       "      <td>0.177971</td>\n",
       "      <td>0.040746</td>\n",
       "      <td>0.085478</td>\n",
       "    </tr>\n",
       "    <tr>\n",
       "      <th>1765440</th>\n",
       "      <td>119130644</td>\n",
       "      <td>3500.0</td>\n",
       "      <td>3500.0</td>\n",
       "      <td>36 months</td>\n",
       "      <td>10.91</td>\n",
       "      <td>114.44</td>\n",
       "      <td>B</td>\n",
       "      <td>&lt; 1 year</td>\n",
       "      <td>OWN</td>\n",
       "      <td>21000.00</td>\n",
       "      <td>...</td>\n",
       "      <td>36.50</td>\n",
       "      <td>684.520000</td>\n",
       "      <td>0.00</td>\n",
       "      <td>2018-04-01</td>\n",
       "      <td>5.979589</td>\n",
       "      <td>36</td>\n",
       "      <td>-0.268141</td>\n",
       "      <td>-0.268141</td>\n",
       "      <td>-0.156210</td>\n",
       "      <td>-0.148150</td>\n",
       "    </tr>\n",
       "    <tr>\n",
       "      <th>1765441</th>\n",
       "      <td>119317668</td>\n",
       "      <td>10000.0</td>\n",
       "      <td>10000.0</td>\n",
       "      <td>36 months</td>\n",
       "      <td>12.62</td>\n",
       "      <td>335.12</td>\n",
       "      <td>C</td>\n",
       "      <td>5 years</td>\n",
       "      <td>RENT</td>\n",
       "      <td>65000.00</td>\n",
       "      <td>...</td>\n",
       "      <td>87.90</td>\n",
       "      <td>1661.580000</td>\n",
       "      <td>0.00</td>\n",
       "      <td>2018-03-01</td>\n",
       "      <td>4.961087</td>\n",
       "      <td>36</td>\n",
       "      <td>-0.277947</td>\n",
       "      <td>-0.277947</td>\n",
       "      <td>-0.162760</td>\n",
       "      <td>-0.155840</td>\n",
       "    </tr>\n",
       "    <tr>\n",
       "      <th>1765442</th>\n",
       "      <td>119311699</td>\n",
       "      <td>21000.0</td>\n",
       "      <td>21000.0</td>\n",
       "      <td>60 months</td>\n",
       "      <td>30.94</td>\n",
       "      <td>691.60</td>\n",
       "      <td>G</td>\n",
       "      <td>5 years</td>\n",
       "      <td>MORTGAGE</td>\n",
       "      <td>90000.00</td>\n",
       "      <td>...</td>\n",
       "      <td>95.40</td>\n",
       "      <td>3686.670000</td>\n",
       "      <td>0.00</td>\n",
       "      <td>2018-04-01</td>\n",
       "      <td>5.979589</td>\n",
       "      <td>60</td>\n",
       "      <td>-0.164889</td>\n",
       "      <td>-0.164889</td>\n",
       "      <td>-0.160693</td>\n",
       "      <td>-0.153458</td>\n",
       "    </tr>\n",
       "    <tr>\n",
       "      <th>1765443</th>\n",
       "      <td>119297966</td>\n",
       "      <td>30000.0</td>\n",
       "      <td>30000.0</td>\n",
       "      <td>60 months</td>\n",
       "      <td>30.75</td>\n",
       "      <td>984.47</td>\n",
       "      <td>F</td>\n",
       "      <td>6 years</td>\n",
       "      <td>MORTGAGE</td>\n",
       "      <td>100000.00</td>\n",
       "      <td>...</td>\n",
       "      <td>66.90</td>\n",
       "      <td>5778.700000</td>\n",
       "      <td>0.00</td>\n",
       "      <td>2018-04-01</td>\n",
       "      <td>5.979589</td>\n",
       "      <td>60</td>\n",
       "      <td>-0.161475</td>\n",
       "      <td>-0.161475</td>\n",
       "      <td>-0.156871</td>\n",
       "      <td>-0.148933</td>\n",
       "    </tr>\n",
       "    <tr>\n",
       "      <th>1765444</th>\n",
       "      <td>119305438</td>\n",
       "      <td>12000.0</td>\n",
       "      <td>12000.0</td>\n",
       "      <td>60 months</td>\n",
       "      <td>14.08</td>\n",
       "      <td>279.72</td>\n",
       "      <td>C</td>\n",
       "      <td>10+ years</td>\n",
       "      <td>MORTGAGE</td>\n",
       "      <td>58000.00</td>\n",
       "      <td>...</td>\n",
       "      <td>39.20</td>\n",
       "      <td>1444.880000</td>\n",
       "      <td>0.00</td>\n",
       "      <td>2018-03-01</td>\n",
       "      <td>4.961087</td>\n",
       "      <td>60</td>\n",
       "      <td>-0.175919</td>\n",
       "      <td>-0.175919</td>\n",
       "      <td>-0.173014</td>\n",
       "      <td>-0.167999</td>\n",
       "    </tr>\n",
       "    <tr>\n",
       "      <th>1765445</th>\n",
       "      <td>117579665</td>\n",
       "      <td>12000.0</td>\n",
       "      <td>12000.0</td>\n",
       "      <td>60 months</td>\n",
       "      <td>25.82</td>\n",
       "      <td>358.01</td>\n",
       "      <td>E</td>\n",
       "      <td>&lt; 1 year</td>\n",
       "      <td>MORTGAGE</td>\n",
       "      <td>30000.00</td>\n",
       "      <td>...</td>\n",
       "      <td>20.20</td>\n",
       "      <td>2105.030000</td>\n",
       "      <td>0.00</td>\n",
       "      <td>2018-04-01</td>\n",
       "      <td>5.979589</td>\n",
       "      <td>60</td>\n",
       "      <td>-0.164916</td>\n",
       "      <td>-0.164916</td>\n",
       "      <td>-0.160723</td>\n",
       "      <td>-0.153494</td>\n",
       "    </tr>\n",
       "    <tr>\n",
       "      <th>1765446</th>\n",
       "      <td>118660967</td>\n",
       "      <td>10000.0</td>\n",
       "      <td>10000.0</td>\n",
       "      <td>36 months</td>\n",
       "      <td>11.99</td>\n",
       "      <td>332.10</td>\n",
       "      <td>B</td>\n",
       "      <td>10+ years</td>\n",
       "      <td>OWN</td>\n",
       "      <td>64000.00</td>\n",
       "      <td>...</td>\n",
       "      <td>70.90</td>\n",
       "      <td>1985.940000</td>\n",
       "      <td>0.00</td>\n",
       "      <td>2018-04-01</td>\n",
       "      <td>5.979589</td>\n",
       "      <td>36</td>\n",
       "      <td>-0.267135</td>\n",
       "      <td>-0.267135</td>\n",
       "      <td>-0.155534</td>\n",
       "      <td>-0.147350</td>\n",
       "    </tr>\n",
       "    <tr>\n",
       "      <th>1765447</th>\n",
       "      <td>118607680</td>\n",
       "      <td>16550.0</td>\n",
       "      <td>16550.0</td>\n",
       "      <td>60 months</td>\n",
       "      <td>21.45</td>\n",
       "      <td>451.94</td>\n",
       "      <td>D</td>\n",
       "      <td>3 years</td>\n",
       "      <td>RENT</td>\n",
       "      <td>60000.00</td>\n",
       "      <td>...</td>\n",
       "      <td>50.80</td>\n",
       "      <td>2691.920000</td>\n",
       "      <td>0.00</td>\n",
       "      <td>2018-04-01</td>\n",
       "      <td>5.979589</td>\n",
       "      <td>60</td>\n",
       "      <td>-0.167469</td>\n",
       "      <td>-0.167469</td>\n",
       "      <td>-0.163581</td>\n",
       "      <td>-0.156879</td>\n",
       "    </tr>\n",
       "    <tr>\n",
       "      <th>1765448</th>\n",
       "      <td>118667978</td>\n",
       "      <td>12000.0</td>\n",
       "      <td>12000.0</td>\n",
       "      <td>60 months</td>\n",
       "      <td>21.45</td>\n",
       "      <td>327.69</td>\n",
       "      <td>D</td>\n",
       "      <td>3 years</td>\n",
       "      <td>RENT</td>\n",
       "      <td>60000.00</td>\n",
       "      <td>...</td>\n",
       "      <td>34.90</td>\n",
       "      <td>1930.390000</td>\n",
       "      <td>0.00</td>\n",
       "      <td>2018-04-01</td>\n",
       "      <td>5.979589</td>\n",
       "      <td>60</td>\n",
       "      <td>-0.167827</td>\n",
       "      <td>-0.167827</td>\n",
       "      <td>-0.163982</td>\n",
       "      <td>-0.157353</td>\n",
       "    </tr>\n",
       "    <tr>\n",
       "      <th>1765449</th>\n",
       "      <td>Total amount funded in policy code 1: 1817354125</td>\n",
       "      <td>NaN</td>\n",
       "      <td>NaN</td>\n",
       "      <td>60 months</td>\n",
       "      <td>NaN</td>\n",
       "      <td>NaN</td>\n",
       "      <td>D</td>\n",
       "      <td>3 years</td>\n",
       "      <td>RENT</td>\n",
       "      <td>NaN</td>\n",
       "      <td>...</td>\n",
       "      <td>NaN</td>\n",
       "      <td>NaN</td>\n",
       "      <td>NaN</td>\n",
       "      <td>None</td>\n",
       "      <td>NaN</td>\n",
       "      <td>60</td>\n",
       "      <td>NaN</td>\n",
       "      <td>NaN</td>\n",
       "      <td>NaN</td>\n",
       "      <td>NaN</td>\n",
       "    </tr>\n",
       "    <tr>\n",
       "      <th>1765450</th>\n",
       "      <td>Total amount funded in policy code 2: 620899600</td>\n",
       "      <td>NaN</td>\n",
       "      <td>NaN</td>\n",
       "      <td>60 months</td>\n",
       "      <td>NaN</td>\n",
       "      <td>NaN</td>\n",
       "      <td>D</td>\n",
       "      <td>3 years</td>\n",
       "      <td>RENT</td>\n",
       "      <td>NaN</td>\n",
       "      <td>...</td>\n",
       "      <td>NaN</td>\n",
       "      <td>NaN</td>\n",
       "      <td>NaN</td>\n",
       "      <td>None</td>\n",
       "      <td>NaN</td>\n",
       "      <td>60</td>\n",
       "      <td>NaN</td>\n",
       "      <td>NaN</td>\n",
       "      <td>NaN</td>\n",
       "      <td>NaN</td>\n",
       "    </tr>\n",
       "  </tbody>\n",
       "</table>\n",
       "<p>1759233 rows × 32 columns</p>\n",
       "</div>"
      ],
      "text/plain": [
       "                                                       id  loan_amnt  \\\n",
       "0                                                 1077501     5000.0   \n",
       "1                                                 1077430     2500.0   \n",
       "2                                                 1077175     2400.0   \n",
       "3                                                 1076863    10000.0   \n",
       "4                                                 1075358     3000.0   \n",
       "5                                                 1075269     5000.0   \n",
       "6                                                 1069639     7000.0   \n",
       "7                                                 1072053     3000.0   \n",
       "8                                                 1071795     5600.0   \n",
       "9                                                 1071570     5375.0   \n",
       "10                                                1070078     6500.0   \n",
       "11                                                1069908    12000.0   \n",
       "12                                                1064687     9000.0   \n",
       "13                                                1069866     3000.0   \n",
       "14                                                1069057    10000.0   \n",
       "15                                                1069759     1000.0   \n",
       "16                                                1065775    10000.0   \n",
       "17                                                1069971     3600.0   \n",
       "18                                                1062474     6000.0   \n",
       "19                                                1069742     9200.0   \n",
       "20                                                1069740    20250.0   \n",
       "21                                                1039153    21000.0   \n",
       "22                                                1069710    10000.0   \n",
       "23                                                1069700    10000.0   \n",
       "24                                                1069559     6000.0   \n",
       "25                                                1069697    15000.0   \n",
       "26                                                1069800    15000.0   \n",
       "27                                                1069657     5000.0   \n",
       "28                                                1069799     4000.0   \n",
       "29                                                1047704     8500.0   \n",
       "...                                                   ...        ...   \n",
       "1765420                                         119281569    15000.0   \n",
       "1765421                                         119300207    20700.0   \n",
       "1765422                                         119699773    21000.0   \n",
       "1765423                                         119703711    30000.0   \n",
       "1765424                                         119402310    10000.0   \n",
       "1765425                                         117169380    20000.0   \n",
       "1765426                                         119260414    35000.0   \n",
       "1765427                                         119342626    16000.0   \n",
       "1765428                                         119373285    35000.0   \n",
       "1765429                                         119321840    32000.0   \n",
       "1765430                                         119394625    10500.0   \n",
       "1765432                                         119314998    10000.0   \n",
       "1765433                                         118620436    15000.0   \n",
       "1765434                                         117880015    35000.0   \n",
       "1765435                                         119231255    19000.0   \n",
       "1765436                                         119344895    17950.0   \n",
       "1765437                                         118120119    30000.0   \n",
       "1765438                                         116788357    18000.0   \n",
       "1765439                                         119361010    15000.0   \n",
       "1765440                                         119130644     3500.0   \n",
       "1765441                                         119317668    10000.0   \n",
       "1765442                                         119311699    21000.0   \n",
       "1765443                                         119297966    30000.0   \n",
       "1765444                                         119305438    12000.0   \n",
       "1765445                                         117579665    12000.0   \n",
       "1765446                                         118660967    10000.0   \n",
       "1765447                                         118607680    16550.0   \n",
       "1765448                                         118667978    12000.0   \n",
       "1765449  Total amount funded in policy code 1: 1817354125        NaN   \n",
       "1765450   Total amount funded in policy code 2: 620899600        NaN   \n",
       "\n",
       "         funded_amnt        term  int_rate  installment grade emp_length  \\\n",
       "0             5000.0   36 months     10.65       162.87     B  10+ years   \n",
       "1             2500.0   60 months     15.27        59.83     C   < 1 year   \n",
       "2             2400.0   36 months     15.96        84.33     C  10+ years   \n",
       "3            10000.0   36 months     13.49       339.31     C  10+ years   \n",
       "4             3000.0   60 months     12.69        67.79     B     1 year   \n",
       "5             5000.0   36 months      7.90       156.46     A    3 years   \n",
       "6             7000.0   60 months     15.96       170.08     C    8 years   \n",
       "7             3000.0   36 months     18.64       109.43     E    9 years   \n",
       "8             5600.0   60 months     21.28       152.39     F    4 years   \n",
       "9             5375.0   60 months     12.69       121.45     B   < 1 year   \n",
       "10            6500.0   60 months     14.65       153.45     C    5 years   \n",
       "11           12000.0   36 months     12.69       402.54     B  10+ years   \n",
       "12            9000.0   36 months     13.49       305.38     C   < 1 year   \n",
       "13            3000.0   36 months      9.91        96.68     B    3 years   \n",
       "14           10000.0   36 months     10.65       325.74     B    3 years   \n",
       "15            1000.0   36 months     16.29        35.31     D   < 1 year   \n",
       "16           10000.0   36 months     15.27       347.98     C    4 years   \n",
       "17            3600.0   36 months      6.03       109.57     A  10+ years   \n",
       "18            6000.0   36 months     11.71       198.46     B     1 year   \n",
       "19            9200.0   36 months      6.03       280.01     A    6 years   \n",
       "20           20250.0   60 months     15.27       484.63     C    3 years   \n",
       "21           21000.0   36 months     12.42       701.73     B  10+ years   \n",
       "22           10000.0   36 months     11.71       330.76     B  10+ years   \n",
       "23           10000.0   36 months     11.71       330.76     B    5 years   \n",
       "24            6000.0   36 months     11.71       198.46     B     1 year   \n",
       "25           15000.0   36 months      9.91       483.38     B    2 years   \n",
       "26           15000.0   36 months     14.27       514.64     C    9 years   \n",
       "27            5000.0   60 months     16.77       123.65     D    2 years   \n",
       "28            4000.0   36 months     11.71       132.31     B  10+ years   \n",
       "29            8500.0   36 months     11.71       281.15     B   < 1 year   \n",
       "...              ...         ...       ...          ...   ...        ...   \n",
       "1765420      15000.0   60 months     30.75       492.24     F    2 years   \n",
       "1765421      20700.0   60 months     12.62       466.98     C  10+ years   \n",
       "1765422      21000.0   36 months     17.09       749.65     D  10+ years   \n",
       "1765423      30000.0   36 months     21.45      1137.20     D  10+ years   \n",
       "1765424      10000.0   36 months      9.44       320.05     B  10+ years   \n",
       "1765425      20000.0   36 months     13.59       679.58     C    7 years   \n",
       "1765426      35000.0   60 months     30.75      1148.55     F    3 years   \n",
       "1765427      16000.0   60 months     18.06       406.82     D   < 1 year   \n",
       "1765428      35000.0   36 months      7.97      1096.29     A    3 years   \n",
       "1765429      32000.0   60 months     28.72      1010.30     F    3 years   \n",
       "1765430      10500.0   36 months     13.59       356.78     C    3 years   \n",
       "1765432      10000.0   60 months     28.72       315.72     F     1 year   \n",
       "1765433      15000.0   36 months     10.91       490.45     B     1 year   \n",
       "1765434      35000.0   60 months     17.09       871.54     D   < 1 year   \n",
       "1765435      19000.0   60 months     14.08       442.89     C   < 1 year   \n",
       "1765436      17950.0   60 months     30.17       582.62     F  10+ years   \n",
       "1765437      30000.0   60 months     17.09       747.03     D    2 years   \n",
       "1765438      18000.0   60 months     30.65       589.57     F  10+ years   \n",
       "1765439      15000.0   60 months     16.02       364.94     C   < 1 year   \n",
       "1765440       3500.0   36 months     10.91       114.44     B   < 1 year   \n",
       "1765441      10000.0   36 months     12.62       335.12     C    5 years   \n",
       "1765442      21000.0   60 months     30.94       691.60     G    5 years   \n",
       "1765443      30000.0   60 months     30.75       984.47     F    6 years   \n",
       "1765444      12000.0   60 months     14.08       279.72     C  10+ years   \n",
       "1765445      12000.0   60 months     25.82       358.01     E   < 1 year   \n",
       "1765446      10000.0   36 months     11.99       332.10     B  10+ years   \n",
       "1765447      16550.0   60 months     21.45       451.94     D    3 years   \n",
       "1765448      12000.0   60 months     21.45       327.69     D    3 years   \n",
       "1765449          NaN   60 months       NaN          NaN     D    3 years   \n",
       "1765450          NaN   60 months       NaN          NaN     D    3 years   \n",
       "\n",
       "        home_ownership  annual_inc    ...    revol_util   total_pymnt  \\\n",
       "0                 RENT    24000.00    ...         83.70   5863.155187   \n",
       "1                 RENT    30000.00    ...          9.40   1014.530000   \n",
       "2                 RENT    12252.00    ...         98.50   3005.666844   \n",
       "3                 RENT    49200.00    ...         21.00  12231.890000   \n",
       "4                 RENT    80000.00    ...         53.90   4066.908161   \n",
       "5                 RENT    36000.00    ...         28.30   5632.210000   \n",
       "6                 RENT    47004.00    ...         85.60  10137.840008   \n",
       "7                 RENT    48000.00    ...         87.50   3939.135294   \n",
       "8                  OWN    40000.00    ...         32.60    647.500000   \n",
       "9                 RENT    15000.00    ...         36.50   1484.590000   \n",
       "10                 OWN    72000.00    ...         20.60   7678.017673   \n",
       "11                 OWN    75000.00    ...         67.10  13947.989155   \n",
       "12                RENT    30000.00    ...         91.70   2277.320000   \n",
       "13                RENT    15000.00    ...         43.10   3480.269999   \n",
       "14                RENT   100000.00    ...         55.50   7471.990000   \n",
       "15                RENT    28000.00    ...         81.50   1270.716942   \n",
       "16                RENT    42000.00    ...         70.20  12527.150000   \n",
       "17            MORTGAGE   110000.00    ...         16.00   3785.271965   \n",
       "18            MORTGAGE    84000.00    ...         37.73   7167.072893   \n",
       "19                RENT    77385.19    ...         23.10   9460.000848   \n",
       "20                RENT    43370.00    ...         85.60  27679.049997   \n",
       "21                RENT   105000.00    ...         90.30  14034.600000   \n",
       "22                 OWN    50000.00    ...         82.40  11907.350000   \n",
       "23                RENT    50000.00    ...         91.80  11540.891977   \n",
       "24                RENT    76000.00    ...         29.70   2055.850000   \n",
       "25            MORTGAGE    92000.00    ...         93.90  15823.999049   \n",
       "26                RENT    60000.00    ...         57.60      0.000000   \n",
       "27                RENT    50004.00    ...         59.50   1611.160000   \n",
       "28            MORTGAGE   106000.00    ...         37.70   4486.293519   \n",
       "29                RENT    25000.00    ...         59.10  10126.088441   \n",
       "...                ...         ...    ...           ...           ...   \n",
       "1765420           RENT    55000.00    ...         17.20  16576.734815   \n",
       "1765421            OWN    46000.00    ...         33.00   2787.370000   \n",
       "1765422       MORTGAGE    77000.00    ...         42.00   4515.440000   \n",
       "1765423       MORTGAGE    94000.00    ...         55.90   6867.550000   \n",
       "1765424       MORTGAGE   103510.00    ...         91.00   1907.190000   \n",
       "1765425       MORTGAGE    70000.00    ...         38.00   4062.380000   \n",
       "1765426            OWN    78960.00    ...         98.20   6741.820000   \n",
       "1765427       MORTGAGE    50000.00    ...         24.00   2400.790000   \n",
       "1765428       MORTGAGE    40000.00    ...         34.70   6562.240000   \n",
       "1765429            OWN    33000.00    ...         24.20   5934.160000   \n",
       "1765430            OWN    31000.00    ...         54.00   2132.750000   \n",
       "1765432           RENT    48000.00    ...         59.00   1878.360000   \n",
       "1765433           RENT    60000.00    ...         44.70   2933.610000   \n",
       "1765434       MORTGAGE    20736.00    ...         96.50   5146.160000   \n",
       "1765435       MORTGAGE    49200.00    ...         42.20   2642.480000   \n",
       "1765436       MORTGAGE    53758.00    ...         35.90   3420.500000   \n",
       "1765437           RENT    80000.00    ...         30.80   3806.370000   \n",
       "1765438       MORTGAGE    77000.00    ...         45.10   2976.160000   \n",
       "1765439           RENT    85000.00    ...         24.80  16112.317714   \n",
       "1765440            OWN    21000.00    ...         36.50    684.520000   \n",
       "1765441           RENT    65000.00    ...         87.90   1661.580000   \n",
       "1765442       MORTGAGE    90000.00    ...         95.40   3686.670000   \n",
       "1765443       MORTGAGE   100000.00    ...         66.90   5778.700000   \n",
       "1765444       MORTGAGE    58000.00    ...         39.20   1444.880000   \n",
       "1765445       MORTGAGE    30000.00    ...         20.20   2105.030000   \n",
       "1765446            OWN    64000.00    ...         70.90   1985.940000   \n",
       "1765447           RENT    60000.00    ...         50.80   2691.920000   \n",
       "1765448           RENT    60000.00    ...         34.90   1930.390000   \n",
       "1765449           RENT         NaN    ...           NaN           NaN   \n",
       "1765450           RENT         NaN    ...           NaN           NaN   \n",
       "\n",
       "        recoveries last_pymnt_d  loan_length  term_num  ret_PESS   ret_OPT  \\\n",
       "0             0.00   2015-01-01    37.027454        36  0.057544  0.055988   \n",
       "1           122.90   2013-04-01    16.000329        60 -0.118838 -0.118838   \n",
       "2             0.00   2014-06-01    29.996509        36  0.084120  0.100944   \n",
       "3             0.00   2015-01-01    37.027454        36  0.074396  0.072386   \n",
       "4             0.00   2017-01-01    61.044375        60  0.071127  0.069961   \n",
       "5             0.00   2015-01-01    37.027454        36  0.042147  0.041008   \n",
       "6             0.00   2016-05-01    52.994928        60  0.089653  0.101493   \n",
       "7             0.00   2015-01-01    37.027454        36  0.104348  0.101528   \n",
       "8           190.54   2012-04-01     4.008296        60 -0.176875 -0.176875   \n",
       "9           277.69   2012-11-01    11.039241        60 -0.144759 -0.144759   \n",
       "10            0.00   2013-06-01    18.004476        60  0.036247  0.120822   \n",
       "11            0.00   2013-09-01    21.027126        36  0.054111  0.092761   \n",
       "12          450.92   2012-07-01     6.998090        36 -0.248988 -0.248988   \n",
       "13            0.00   2015-01-01    37.027454        36  0.053363  0.051921   \n",
       "14          645.10   2013-10-01    22.012772        36 -0.084267 -0.084267   \n",
       "15            0.00   2015-01-01    37.027454        36  0.090239  0.087800   \n",
       "16            0.00   2015-01-01    37.027454        36  0.084238  0.081962   \n",
       "17            0.00   2013-05-01    16.985975        36  0.017155  0.036328   \n",
       "18            0.00   2015-02-01    38.045956        36  0.064837  0.061425   \n",
       "19            0.00   2012-07-01     6.998090        36  0.009420  0.048447   \n",
       "20            0.00   2015-08-01    43.992690        60  0.073373  0.100055   \n",
       "21            9.20   2013-09-01    21.027126        36 -0.110562 -0.110562   \n",
       "22            0.00   2015-01-01    37.027454        36  0.063578  0.061860   \n",
       "23            0.00   2013-10-01    22.012772        36  0.051363  0.084049   \n",
       "24          275.02   2012-10-01    10.020740        36 -0.219119 -0.219119   \n",
       "25            0.00   2012-09-01     9.035093        36  0.018311  0.073244   \n",
       "26            0.00         None          NaN        36 -0.333333       NaN   \n",
       "27          263.00   2012-12-01    12.024888        60 -0.135554 -0.135554   \n",
       "28            0.00   2013-04-01    16.000329        36  0.040524  0.091180   \n",
       "29            0.00   2014-12-01    36.008953        36  0.063768  0.063768   \n",
       "...            ...          ...          ...       ...       ...       ...   \n",
       "1765420       0.00   2018-02-01     4.041151        60  0.021023  0.315347   \n",
       "1765421       0.00   2018-04-01     5.979589        60 -0.173069 -0.173069   \n",
       "1765422       0.00   2018-04-01     5.979589        36 -0.261660 -0.261660   \n",
       "1765423       0.00   2018-04-01     5.979589        36 -0.257027 -0.257027   \n",
       "1765424       0.00   2018-04-01     5.979589        36 -0.269760 -0.269760   \n",
       "1765425       0.00   2018-04-01     5.979589        36 -0.265627 -0.265627   \n",
       "1765426       0.00   2018-04-01     5.979589        60 -0.161475 -0.161475   \n",
       "1765427       0.00   2018-04-01     5.979589        60 -0.169990 -0.169990   \n",
       "1765428       0.00   2018-04-01     5.979589        36 -0.270836 -0.270836   \n",
       "1765429       0.00   2018-04-01     5.979589        60 -0.162912 -0.162912   \n",
       "1765430       0.00   2018-04-01     5.979589        36 -0.265627 -0.265627   \n",
       "1765432       0.00   2018-04-01     5.979589        60 -0.162433 -0.162433   \n",
       "1765433       0.00   2018-04-01     5.979589        36 -0.268142 -0.268142   \n",
       "1765434       0.00   2018-04-01     5.979589        60 -0.170593 -0.170593   \n",
       "1765435       0.00   2018-04-01     5.979589        60 -0.172184 -0.172184   \n",
       "1765436       0.00   2018-04-01     5.979589        60 -0.161889 -0.161889   \n",
       "1765437       0.00   2018-03-01     4.961087        60 -0.174624 -0.174624   \n",
       "1765438       0.00   2018-04-01     5.979589        60 -0.166932 -0.166932   \n",
       "1765439       0.00   2018-03-01     4.961087        60  0.014831  0.177971   \n",
       "1765440       0.00   2018-04-01     5.979589        36 -0.268141 -0.268141   \n",
       "1765441       0.00   2018-03-01     4.961087        36 -0.277947 -0.277947   \n",
       "1765442       0.00   2018-04-01     5.979589        60 -0.164889 -0.164889   \n",
       "1765443       0.00   2018-04-01     5.979589        60 -0.161475 -0.161475   \n",
       "1765444       0.00   2018-03-01     4.961087        60 -0.175919 -0.175919   \n",
       "1765445       0.00   2018-04-01     5.979589        60 -0.164916 -0.164916   \n",
       "1765446       0.00   2018-04-01     5.979589        36 -0.267135 -0.267135   \n",
       "1765447       0.00   2018-04-01     5.979589        60 -0.167469 -0.167469   \n",
       "1765448       0.00   2018-04-01     5.979589        60 -0.167827 -0.167827   \n",
       "1765449        NaN         None          NaN        60       NaN       NaN   \n",
       "1765450        NaN         None          NaN        60       NaN       NaN   \n",
       "\n",
       "         ret_INTa  ret_INTb  \n",
       "0        0.054605  0.088148  \n",
       "1       -0.110200 -0.095511  \n",
       "2        0.073803  0.113007  \n",
       "3        0.065582  0.100571  \n",
       "4        0.087479  0.114530  \n",
       "5        0.044576  0.076798  \n",
       "6        0.109539  0.142469  \n",
       "7        0.085092  0.122652  \n",
       "8       -0.174082 -0.169262  \n",
       "9       -0.138579 -0.128011  \n",
       "10       0.061342  0.104017  \n",
       "11       0.056396  0.096958  \n",
       "12      -0.143468 -0.133281  \n",
       "13       0.051882  0.085066  \n",
       "14      -0.035637 -0.010416  \n",
       "15       0.075902  0.112250  \n",
       "16       0.071993  0.107827  \n",
       "17       0.032862  0.071283  \n",
       "18       0.059100  0.092816  \n",
       "19       0.030001  0.071928  \n",
       "20       0.094738  0.130259  \n",
       "21      -0.052580 -0.029261  \n",
       "22       0.058536  0.092597  \n",
       "23       0.054325  0.094131  \n",
       "24      -0.123679 -0.110326  \n",
       "25       0.035497  0.077603  \n",
       "26            NaN       NaN  \n",
       "27      -0.128410 -0.116206  \n",
       "28       0.048636  0.090085  \n",
       "29       0.058915  0.093445  \n",
       "...           ...       ...  \n",
       "1765420  0.047932  0.094437  \n",
       "1765421 -0.169850 -0.164301  \n",
       "1765422 -0.151856 -0.142996  \n",
       "1765423 -0.148745 -0.139311  \n",
       "1765424 -0.157298 -0.149438  \n",
       "1765425 -0.154521 -0.146151  \n",
       "1765426 -0.156871 -0.148933  \n",
       "1765427 -0.166404 -0.160220  \n",
       "1765428 -0.158020 -0.150294  \n",
       "1765429 -0.158479 -0.150837  \n",
       "1765430 -0.154521 -0.146151  \n",
       "1765432 -0.157943 -0.150203  \n",
       "1765433 -0.156211 -0.148151  \n",
       "1765434 -0.167079 -0.161020  \n",
       "1765435 -0.168860 -0.163129  \n",
       "1765436 -0.157334 -0.149481  \n",
       "1765437 -0.171563 -0.166279  \n",
       "1765438 -0.162979 -0.156166  \n",
       "1765439  0.040746  0.085478  \n",
       "1765440 -0.156210 -0.148150  \n",
       "1765441 -0.162760 -0.155840  \n",
       "1765442 -0.160693 -0.153458  \n",
       "1765443 -0.156871 -0.148933  \n",
       "1765444 -0.173014 -0.167999  \n",
       "1765445 -0.160723 -0.153494  \n",
       "1765446 -0.155534 -0.147350  \n",
       "1765447 -0.163581 -0.156879  \n",
       "1765448 -0.163982 -0.157353  \n",
       "1765449       NaN       NaN  \n",
       "1765450       NaN       NaN  \n",
       "\n",
       "[1759233 rows x 32 columns]"
      ]
     },
     "execution_count": 21,
     "metadata": {},
     "output_type": "execute_result"
    }
   ],
   "source": [
    "final_data"
   ]
  },
  {
   "cell_type": "markdown",
   "metadata": {},
   "source": [
    "### Visualize the variables"
   ]
  },
  {
   "cell_type": "code",
   "execution_count": 22,
   "metadata": {},
   "outputs": [],
   "source": [
    "def visualize_float_columns():\n",
    "    '''\n",
    "    This function visualizes Box-and-whisker plots for continuous variables\n",
    "    '''\n",
    "    \n",
    "    # FLoat columns\n",
    "    for i in float_cols + perc_cols + ret_cols:\n",
    "        seaborn.boxplot(final_data[i])\n",
    "\n",
    "        # Print the three highest values\n",
    "        highest_vals = sorted(set(final_data[i]),reverse=True)[0:3] # get 3 highest values\n",
    "        \n",
    "        smallest_val = min(final_data[i])\n",
    "        print(\"The smallest value is:\" + str(smallest_val))\n",
    "        plt.text(smallest_val, -0.3, highest_vals[0])\n",
    "        plt.text(smallest_val, -0.2, highest_vals[1])\n",
    "        plt.text(smallest_val, -0.1, highest_vals[2])\n",
    "\n",
    "        plt.show()"
   ]
  },
  {
   "cell_type": "code",
   "execution_count": 23,
   "metadata": {},
   "outputs": [],
   "source": [
    "def visualize_cat_columns():\n",
    "    '''\n",
    "    Lists the distinct values for categorical columns\n",
    "    '''\n",
    "    # Categorical columns \n",
    "    for i in cat_cols:\n",
    "        print(\"field name:\"+i) # print field name\n",
    "        print(\"number of distinct values:\"+str(len(set(final_data[i]))))# print number of distinct values\n",
    "        for d in set(final_data[i]):\n",
    "            print(d+\" occurs \"+str((final_data[i] == d).sum())+\" times\")# for each distinct value print the number of occurances\n",
    "        print(\"\")\n",
    "        print(\"\")"
   ]
  },
  {
   "cell_type": "code",
   "execution_count": 24,
   "metadata": {},
   "outputs": [],
   "source": [
    "def visualize_date_columns():\n",
    "    '''\n",
    "    This function visualizes a timeline density for dates\n",
    "    '''\n",
    "    \n",
    "    # Date columns\n",
    "    for i in date_cols:\n",
    "        final_data[final_data[i].isnull() == False][i].apply(lambda x : str(x.year) +\n",
    "                                                \"-\" + str(x.month)).value_counts(ascending = True).plot()\n",
    "        plt.title(i + \" (\" + str(final_data[i].isnull().sum()) + \" null values)\")\n",
    "        plt.show()"
   ]
  },
  {
   "cell_type": "code",
   "execution_count": 25,
   "metadata": {},
   "outputs": [
    {
     "name": "stdout",
     "output_type": "stream",
     "text": [
      "The smallest value is:500.0\n"
     ]
    },
    {
     "data": {
      "image/png": "[encoded data removed]",
      "text/plain": [
       "<Figure size 432x288 with 1 Axes>"
      ]
     },
     "metadata": {
      "needs_background": "light"
     },
     "output_type": "display_data"
    },
    {
     "name": "stdout",
     "output_type": "stream",
     "text": [
      "The smallest value is:500.0\n"
     ]
    },
    {
     "data": {
      "image/png": "[encoded data removed]",
      "text/plain": [
       "<Figure size 432x288 with 1 Axes>"
      ]
     },
     "metadata": {
      "needs_background": "light"
     },
     "output_type": "display_data"
    },
    {
     "name": "stdout",
     "output_type": "stream",
     "text": [
      "The smallest value is:4.93\n"
     ]
    },
    {
     "data": {
      "image/png": "[encoded data removed]",
      "text/plain": [
       "<Figure size 432x288 with 1 Axes>"
      ]
     },
     "metadata": {
      "needs_background": "light"
     },
     "output_type": "display_data"
    },
    {
     "name": "stdout",
     "output_type": "stream",
     "text": [
      "The smallest value is:0.0\n"
     ]
    },
    {
     "data": {
      "image/png": "[encoded data removed]",
      "text/plain": [
       "<Figure size 432x288 with 1 Axes>"
      ]
     },
     "metadata": {
      "needs_background": "light"
     },
     "output_type": "display_data"
    },
    {
     "name": "stdout",
     "output_type": "stream",
     "text": [
      "The smallest value is:-1.0\n"
     ]
    },
    {
     "data": {
      "image/png": "[encoded data removed]",
      "text/plain": [
       "<Figure size 432x288 with 1 Axes>"
      ]
     },
     "metadata": {
      "needs_background": "light"
     },
     "output_type": "display_data"
    },
    {
     "name": "stdout",
     "output_type": "stream",
     "text": [
      "The smallest value is:0.0\n"
     ]
    },
    {
     "data": {
      "image/png": "[encoded data removed]",
      "text/plain": [
       "<Figure size 432x288 with 1 Axes>"
      ]
     },
     "metadata": {
      "needs_background": "light"
     },
     "output_type": "display_data"
    },
    {
     "name": "stdout",
     "output_type": "stream",
     "text": [
      "The smallest value is:0.0\n"
     ]
    },
    {
     "data": {
      "image/png": "[encoded data removed]",
      "text/plain": [
       "<Figure size 432x288 with 1 Axes>"
      ]
     },
     "metadata": {
      "needs_background": "light"
     },
     "output_type": "display_data"
    },
    {
     "name": "stdout",
     "output_type": "stream",
     "text": [
      "The smallest value is:0.0\n"
     ]
    },
    {
     "data": {
      "image/png": "[encoded data removed]",
      "text/plain": [
       "<Figure size 432x288 with 1 Axes>"
      ]
     },
     "metadata": {
      "needs_background": "light"
     },
     "output_type": "display_data"
    },
    {
     "name": "stdout",
     "output_type": "stream",
     "text": [
      "The smallest value is:614.0\n"
     ]
    },
    {
     "data": {
      "image/png": "[encoded data removed]",
      "text/plain": [
       "<Figure size 432x288 with 1 Axes>"
      ]
     },
     "metadata": {
      "needs_background": "light"
     },
     "output_type": "display_data"
    },
    {
     "name": "stdout",
     "output_type": "stream",
     "text": [
      "The smallest value is:610.0\n"
     ]
    },
    {
     "data": {
      "image/png": "[encoded data removed]",
      "text/plain": [
       "<Figure size 432x288 with 1 Axes>"
      ]
     },
     "metadata": {
      "needs_background": "light"
     },
     "output_type": "display_data"
    },
    {
     "name": "stdout",
     "output_type": "stream",
     "text": [
      "The smallest value is:0.0\n"
     ]
    },
    {
     "data": {
      "image/png": "[encoded data removed]",
      "text/plain": [
       "<Figure size 432x288 with 1 Axes>"
      ]
     },
     "metadata": {
      "needs_background": "light"
     },
     "output_type": "display_data"
    },
    {
     "name": "stdout",
     "output_type": "stream",
     "text": [
      "The smallest value is:0.0\n"
     ]
    },
    {
     "data": {
      "image/png": "[encoded data removed]",
      "text/plain": [
       "<Figure size 432x288 with 1 Axes>"
      ]
     },
     "metadata": {
      "needs_background": "light"
     },
     "output_type": "display_data"
    },
    {
     "name": "stdout",
     "output_type": "stream",
     "text": [
      "The smallest value is:0.0\n"
     ]
    },
    {
     "data": {
      "image/png": "[encoded data removed]",
      "text/plain": [
       "<Figure size 432x288 with 1 Axes>"
      ]
     },
     "metadata": {
      "needs_background": "light"
     },
     "output_type": "display_data"
    },
    {
     "name": "stdout",
     "output_type": "stream",
     "text": [
      "The smallest value is:5.32\n"
     ]
    },
    {
     "data": {
      "image/png": "[encoded data removed]",
      "text/plain": [
       "<Figure size 432x288 with 1 Axes>"
      ]
     },
     "metadata": {
      "needs_background": "light"
     },
     "output_type": "display_data"
    },
    {
     "name": "stdout",
     "output_type": "stream",
     "text": [
      "The smallest value is:0.0\n"
     ]
    },
    {
     "data": {
      "image/png": "[encoded data removed]",
      "text/plain": [
       "<Figure size 432x288 with 1 Axes>"
      ]
     },
     "metadata": {
      "needs_background": "light"
     },
     "output_type": "display_data"
    },
    {
     "name": "stdout",
     "output_type": "stream",
     "text": [
      "The smallest value is:-0.3333333333333333\n"
     ]
    },
    {
     "data": {
      "image/png": "[encoded data removed]",
      "text/plain": [
       "<Figure size 432x288 with 1 Axes>"
      ]
     },
     "metadata": {
      "needs_background": "light"
     },
     "output_type": "display_data"
    },
    {
     "name": "stdout",
     "output_type": "stream",
     "text": [
      "The smallest value is:-0.33317542857142857\n"
     ]
    },
    {
     "data": {
      "image/png": "[encoded data removed]",
      "text/plain": [
       "<Figure size 432x288 with 1 Axes>"
      ]
     },
     "metadata": {
      "needs_background": "light"
     },
     "output_type": "display_data"
    },
    {
     "name": "stdout",
     "output_type": "stream",
     "text": [
      "The smallest value is:-0.19996240688386546\n"
     ]
    },
    {
     "data": {
      "image/png": "[encoded data removed]",
      "text/plain": [
       "<Figure size 432x288 with 1 Axes>"
      ]
     },
     "metadata": {
      "needs_background": "light"
     },
     "output_type": "display_data"
    },
    {
     "name": "stdout",
     "output_type": "stream",
     "text": [
      "The smallest value is:-0.19995555422210917\n"
     ]
    },
    {
     "data": {
      "image/png": "[encoded data removed]",
      "text/plain": [
       "<Figure size 432x288 with 1 Axes>"
      ]
     },
     "metadata": {
      "needs_background": "light"
     },
     "output_type": "display_data"
    },
    {
     "name": "stdout",
     "output_type": "stream",
     "text": [
      "field name:term\n",
      "number of distinct values:2\n",
      " 60 months occurs 498610 times\n",
      " 36 months occurs 1260623 times\n",
      "\n",
      "\n",
      "field name:grade\n",
      "number of distinct values:7\n",
      "E occurs 116177 times\n",
      "C occurs 521321 times\n",
      "D occurs 254394 times\n",
      "B occurs 520533 times\n",
      "G occurs 11384 times\n",
      "F occurs 38426 times\n",
      "A occurs 296998 times\n",
      "\n",
      "\n",
      "field name:emp_length\n",
      "number of distinct values:11\n",
      "3 years occurs 148453 times\n",
      "6 years occurs 85413 times\n",
      "7 years occurs 78876 times\n",
      "< 1 year occurs 155376 times\n",
      "10+ years occurs 622678 times\n",
      "9 years occurs 70661 times\n",
      "2 years occurs 168379 times\n",
      "4 years occurs 111680 times\n",
      "8 years occurs 80388 times\n",
      "5 years occurs 115152 times\n",
      "1 year occurs 122177 times\n",
      "\n",
      "\n",
      "field name:home_ownership\n",
      "number of distinct values:6\n",
      "RENT occurs 697225 times\n",
      "ANY occurs 504 times\n",
      "OTHER occurs 182 times\n",
      "MORTGAGE occurs 869379 times\n",
      "OWN occurs 191889 times\n",
      "NONE occurs 54 times\n",
      "\n",
      "\n",
      "field name:verification_status\n",
      "number of distinct values:3\n",
      "Verified occurs 529109 times\n",
      "Source Verified occurs 668300 times\n",
      "Not Verified occurs 561824 times\n",
      "\n",
      "\n",
      "field name:loan_status\n",
      "number of distinct values:9\n",
      "In Grace Period occurs 8753 times\n",
      "Default occurs 392 times\n",
      "Current occurs 792316 times\n",
      "Charged Off occurs 191941 times\n",
      "Does not meet the credit policy. Status:Fully Paid occurs 1990 times\n",
      "Fully Paid occurs 736875 times\n",
      "Late (31-120 days) occurs 20447 times\n",
      "Late (16-30 days) occurs 5758 times\n",
      "Does not meet the credit policy. Status:Charged Off occurs 761 times\n",
      "\n",
      "\n",
      "field name:purpose\n",
      "number of distinct values:14\n",
      "house occurs 8579 times\n",
      "vacation occurs 11962 times\n",
      "home_improvement occurs 117206 times\n",
      "renewable_energy occurs 1164 times\n",
      "wedding occurs 2350 times\n",
      "small_business occurs 20038 times\n",
      "other occurs 103759 times\n",
      "credit_card occurs 388221 times\n",
      "major_purchase occurs 38532 times\n",
      "moving occurs 12215 times\n",
      "debt_consolidation occurs 1015196 times\n",
      "medical occurs 20740 times\n",
      "educational occurs 424 times\n",
      "car occurs 18847 times\n",
      "\n",
      "\n"
     ]
    },
    {
     "data": {
      "image/png": "[encoded data removed]",
      "text/plain": [
       "<Figure size 432x288 with 1 Axes>"
      ]
     },
     "metadata": {
      "needs_background": "light"
     },
     "output_type": "display_data"
    },
    {
     "data": {
      "image/png": "[encoded data removed]",
      "text/plain": [
       "<Figure size 432x288 with 1 Axes>"
      ]
     },
     "metadata": {
      "needs_background": "light"
     },
     "output_type": "display_data"
    },
    {
     "data": {
      "image/png": "[encoded data removed]",
      "text/plain": [
       "<Figure size 432x288 with 1 Axes>"
      ]
     },
     "metadata": {
      "needs_background": "light"
     },
     "output_type": "display_data"
    }
   ],
   "source": [
    "# visualize continuous features\n",
    "visualize_float_columns()\n",
    "\n",
    "# visulaize categorical features\n",
    "visualize_cat_columns()\n",
    "\n",
    "# visualize date columns\n",
    "visualize_date_columns()"
   ]
  },
  {
   "cell_type": "markdown",
   "metadata": {},
   "source": [
    "### Handle outliers"
   ]
  },
  {
   "cell_type": "code",
   "execution_count": 26,
   "metadata": {},
   "outputs": [
    {
     "name": "stdout",
     "output_type": "stream",
     "text": [
      "Removed 215729 rows\n"
     ]
    }
   ],
   "source": [
    "### There are quite a few outliers. \n",
    "# Please identify top-k (decide this based on the visualization) features where outliers are most obvious\n",
    "n_rows = len(final_data)\n",
    "\n",
    "final_data = final_data[final_data['loan_amnt']<38000] # remove outliers based 1st obvious feature\n",
    "final_data = final_data[final_data['funded_amnt']<38000] # remove outliers based 2nd obvious feature\n",
    "final_data = final_data[final_data['installment']<1100]\n",
    "final_data = final_data[final_data['annual_inc']<200000]\n",
    "final_data = final_data[final_data['dti']<50]\n",
    "final_data = final_data[final_data['open_acc']<25]\n",
    "final_data = final_data[final_data['revol_bal']<100000]\n",
    "final_data = final_data[final_data['fico_range_high']<780]\n",
    "final_data = final_data[final_data['fico_range_low']<770]\n",
    "final_data = final_data[final_data['revol_util']<150]\n",
    "\n",
    "# remove outliers based kth obvious feature\n",
    "\n",
    "print(\"Removed \" + str(n_rows - len(final_data)) + \" rows\")"
   ]
  },
  {
   "cell_type": "markdown",
   "metadata": {},
   "source": [
    "Based on the boxplot and our intuition:\n",
    "'loan_amnt','funded_amnt','installment','annual_inc','dti','open_acc','fico_range_high', 'fico_range_low', 'revol_bal', 'revol_util' These variables are easily seperated, so we exclude the outliners by eyeballing and our common sense.\n",
    "Other variables cannot be seperated by eyeballing. Moreover, we tried to change them but found out we excluded too many instances from grade E,F,G and caused the dataset to be unbalanced."
   ]
  },
  {
   "cell_type": "code",
   "execution_count": 27,
   "metadata": {},
   "outputs": [
    {
     "name": "stdout",
     "output_type": "stream",
     "text": [
      "Removed 682329 rows\n"
     ]
    }
   ],
   "source": [
    "# Remove all loans that are still current\n",
    "n_rows = len(final_data)\n",
    "\n",
    "final_data = final_data[final_data['loan_status']!='Current']\n",
    "\n",
    "print(\"Removed \" + str(n_rows - len(final_data)) + \" rows\")"
   ]
  },
  {
   "cell_type": "code",
   "execution_count": 28,
   "metadata": {},
   "outputs": [
    {
     "name": "stdout",
     "output_type": "stream",
     "text": [
      "Removed 7181 rows\n"
     ]
    }
   ],
   "source": [
    "# Only include loans isssued since 2010\n",
    "n_rows = len(final_data)\n",
    "\n",
    "final_data = final_data[final_data['issue_d']>=datetime.date(2010, 1, 1) ]\n",
    "\n",
    "print(\"Removed \" + str(n_rows - len(final_data)) + \" rows\")"
   ]
  },
  {
   "cell_type": "markdown",
   "metadata": {},
   "source": [
    "### Drop null values"
   ]
  },
  {
   "cell_type": "code",
   "execution_count": 29,
   "metadata": {},
   "outputs": [
    {
     "name": "stdout",
     "output_type": "stream",
     "text": [
      "Removed 1445 rows\n"
     ]
    }
   ],
   "source": [
    "# Deal with null values. We allow cateogrical variables to be null\n",
    "# OTHER than grade, which is a particularly important categorical.\n",
    "# All non-categorical variables must be non-null, and we drop\n",
    "# rows that do not meet this requirement\n",
    "\n",
    "required_cols = set(cols_to_pick) - set(cat_cols) - set([\"id\"])\n",
    "required_cols.add(\"grade\")\n",
    "\n",
    "n_rows = len(final_data)\n",
    "\n",
    "for i in required_cols:\n",
    "    final_data=final_data[pd.notnull(final_data[i])]# drop rows that contain null based only on \"required_cols\"\n",
    "\n",
    "print(\"Removed \" + str(n_rows - len(final_data)) + \" rows\")"
   ]
  },
  {
   "cell_type": "markdown",
   "metadata": {},
   "source": [
    "### Visualize clean data"
   ]
  },
  {
   "cell_type": "code",
   "execution_count": 30,
   "metadata": {},
   "outputs": [
    {
     "name": "stdout",
     "output_type": "stream",
     "text": [
      "The smallest value is:1000.0\n"
     ]
    },
    {
     "data": {
      "image/png": "[encoded data removed]",
      "text/plain": [
       "<Figure size 432x288 with 1 Axes>"
      ]
     },
     "metadata": {
      "needs_background": "light"
     },
     "output_type": "display_data"
    },
    {
     "name": "stdout",
     "output_type": "stream",
     "text": [
      "The smallest value is:1000.0\n"
     ]
    },
    {
     "data": {
      "image/png": "[encoded data removed]",
      "text/plain": [
       "<Figure size 432x288 with 1 Axes>"
      ]
     },
     "metadata": {
      "needs_background": "light"
     },
     "output_type": "display_data"
    },
    {
     "name": "stdout",
     "output_type": "stream",
     "text": [
      "The smallest value is:4.93\n"
     ]
    },
    {
     "data": {
      "image/png": "[encoded data removed]",
      "text/plain": [
       "<Figure size 432x288 with 1 Axes>"
      ]
     },
     "metadata": {
      "needs_background": "light"
     },
     "output_type": "display_data"
    },
    {
     "name": "stdout",
     "output_type": "stream",
     "text": [
      "The smallest value is:600.0\n"
     ]
    },
    {
     "data": {
      "image/png": "[encoded data removed]",
      "text/plain": [
       "<Figure size 432x288 with 1 Axes>"
      ]
     },
     "metadata": {
      "needs_background": "light"
     },
     "output_type": "display_data"
    },
    {
     "name": "stdout",
     "output_type": "stream",
     "text": [
      "The smallest value is:-1.0\n"
     ]
    },
    {
     "data": {
      "image/png": "[encoded data removed]",
      "text/plain": [
       "<Figure size 432x288 with 1 Axes>"
      ]
     },
     "metadata": {
      "needs_background": "light"
     },
     "output_type": "display_data"
    },
    {
     "name": "stdout",
     "output_type": "stream",
     "text": [
      "The smallest value is:0.0\n"
     ]
    },
    {
     "data": {
      "image/png": "[encoded data removed]",
      "text/plain": [
       "<Figure size 432x288 with 1 Axes>"
      ]
     },
     "metadata": {
      "needs_background": "light"
     },
     "output_type": "display_data"
    },
    {
     "name": "stdout",
     "output_type": "stream",
     "text": [
      "The smallest value is:1.0\n"
     ]
    },
    {
     "data": {
      "image/png": "[encoded data removed]",
      "text/plain": [
       "<Figure size 432x288 with 1 Axes>"
      ]
     },
     "metadata": {
      "needs_background": "light"
     },
     "output_type": "display_data"
    },
    {
     "name": "stdout",
     "output_type": "stream",
     "text": [
      "The smallest value is:0.0\n"
     ]
    },
    {
     "data": {
      "image/png": "[encoded data removed]",
      "text/plain": [
       "<Figure size 432x288 with 1 Axes>"
      ]
     },
     "metadata": {
      "needs_background": "light"
     },
     "output_type": "display_data"
    },
    {
     "name": "stdout",
     "output_type": "stream",
     "text": [
      "The smallest value is:664.0\n"
     ]
    },
    {
     "data": {
      "image/png": "[encoded data removed]",
      "text/plain": [
       "<Figure size 432x288 with 1 Axes>"
      ]
     },
     "metadata": {
      "needs_background": "light"
     },
     "output_type": "display_data"
    },
    {
     "name": "stdout",
     "output_type": "stream",
     "text": [
      "The smallest value is:660.0\n"
     ]
    },
    {
     "data": {
      "image/png": "[encoded data removed]",
      "text/plain": [
       "<Figure size 432x288 with 1 Axes>"
      ]
     },
     "metadata": {
      "needs_background": "light"
     },
     "output_type": "display_data"
    },
    {
     "name": "stdout",
     "output_type": "stream",
     "text": [
      "The smallest value is:0.0\n"
     ]
    },
    {
     "data": {
      "image/png": "[encoded data removed]",
      "text/plain": [
       "<Figure size 432x288 with 1 Axes>"
      ]
     },
     "metadata": {
      "needs_background": "light"
     },
     "output_type": "display_data"
    },
    {
     "name": "stdout",
     "output_type": "stream",
     "text": [
      "The smallest value is:5.0\n"
     ]
    },
    {
     "data": {
      "image/png": "[encoded data removed]",
      "text/plain": [
       "<Figure size 432x288 with 1 Axes>"
      ]
     },
     "metadata": {
      "needs_background": "light"
     },
     "output_type": "display_data"
    },
    {
     "name": "stdout",
     "output_type": "stream",
     "text": [
      "The smallest value is:0.0\n"
     ]
    },
    {
     "data": {
      "image/png": "[encoded data removed]",
      "text/plain": [
       "<Figure size 432x288 with 1 Axes>"
      ]
     },
     "metadata": {
      "needs_background": "light"
     },
     "output_type": "display_data"
    },
    {
     "name": "stdout",
     "output_type": "stream",
     "text": [
      "The smallest value is:5.32\n"
     ]
    },
    {
     "data": {
      "image/png": "[encoded data removed]",
      "text/plain": [
       "<Figure size 432x288 with 1 Axes>"
      ]
     },
     "metadata": {
      "needs_background": "light"
     },
     "output_type": "display_data"
    },
    {
     "name": "stdout",
     "output_type": "stream",
     "text": [
      "The smallest value is:0.0\n"
     ]
    },
    {
     "data": {
      "image/png": "[encoded data removed]",
      "text/plain": [
       "<Figure size 432x288 with 1 Axes>"
      ]
     },
     "metadata": {
      "needs_background": "light"
     },
     "output_type": "display_data"
    },
    {
     "name": "stdout",
     "output_type": "stream",
     "text": [
      "The smallest value is:-0.33296296296296296\n"
     ]
    },
    {
     "data": {
      "image/png": "[encoded data removed]",
      "text/plain": [
       "<Figure size 432x288 with 1 Axes>"
      ]
     },
     "metadata": {
      "needs_background": "light"
     },
     "output_type": "display_data"
    },
    {
     "name": "stdout",
     "output_type": "stream",
     "text": [
      "The smallest value is:-0.33296296296296296\n"
     ]
    },
    {
     "data": {
      "image/png": "[encoded data removed]",
      "text/plain": [
       "<Figure size 432x288 with 1 Axes>"
      ]
     },
     "metadata": {
      "needs_background": "light"
     },
     "output_type": "display_data"
    },
    {
     "name": "stdout",
     "output_type": "stream",
     "text": [
      "The smallest value is:-0.19996240688386546\n"
     ]
    },
    {
     "data": {
      "image/png": "[encoded data removed]",
      "text/plain": [
       "<Figure size 432x288 with 1 Axes>"
      ]
     },
     "metadata": {
      "needs_background": "light"
     },
     "output_type": "display_data"
    },
    {
     "name": "stdout",
     "output_type": "stream",
     "text": [
      "The smallest value is:-0.19995555422210917\n"
     ]
    },
    {
     "data": {
      "image/png": "[encoded data removed]",
      "text/plain": [
       "<Figure size 432x288 with 1 Axes>"
      ]
     },
     "metadata": {
      "needs_background": "light"
     },
     "output_type": "display_data"
    },
    {
     "name": "stdout",
     "output_type": "stream",
     "text": [
      "field name:term\n",
      "number of distinct values:2\n",
      " 60 months occurs 214044 times\n",
      " 36 months occurs 638505 times\n",
      "\n",
      "\n",
      "field name:grade\n",
      "number of distinct values:7\n",
      "E occurs 67458 times\n",
      "C occurs 246911 times\n",
      "D occurs 136797 times\n",
      "B occurs 248267 times\n",
      "G occurs 6424 times\n",
      "F occurs 24407 times\n",
      "A occurs 122285 times\n",
      "\n",
      "\n",
      "field name:emp_length\n",
      "number of distinct values:11\n",
      "3 years occurs 72357 times\n",
      "6 years occurs 43998 times\n",
      "7 years occurs 42566 times\n",
      "< 1 year occurs 71583 times\n",
      "10+ years occurs 291310 times\n",
      "9 years occurs 35049 times\n",
      "2 years occurs 81927 times\n",
      "4 years occurs 54348 times\n",
      "8 years occurs 42570 times\n",
      "5 years occurs 57277 times\n",
      "1 year occurs 59564 times\n",
      "\n",
      "\n",
      "field name:home_ownership\n",
      "number of distinct values:6\n",
      "RENT occurs 355412 times\n",
      "ANY occurs 119 times\n",
      "OTHER occurs 48 times\n",
      "MORTGAGE occurs 410389 times\n",
      "OWN occurs 86540 times\n",
      "NONE occurs 41 times\n",
      "\n",
      "\n",
      "field name:verification_status\n",
      "number of distinct values:3\n",
      "Verified occurs 272121 times\n",
      "Source Verified occurs 316785 times\n",
      "Not Verified occurs 263643 times\n",
      "\n",
      "\n",
      "field name:loan_status\n",
      "number of distinct values:8\n",
      "In Grace Period occurs 7623 times\n",
      "Default occurs 339 times\n",
      "Charged Off occurs 173312 times\n",
      "Does not meet the credit policy. Status:Fully Paid occurs 644 times\n",
      "Fully Paid occurs 647388 times\n",
      "Late (31-120 days) occurs 18027 times\n",
      "Late (16-30 days) occurs 4975 times\n",
      "Does not meet the credit policy. Status:Charged Off occurs 241 times\n",
      "\n",
      "\n",
      "field name:purpose\n",
      "number of distinct values:14\n",
      "house occurs 3816 times\n",
      "vacation occurs 5515 times\n",
      "home_improvement occurs 48912 times\n",
      "renewable_energy occurs 601 times\n",
      "wedding occurs 1922 times\n",
      "small_business occurs 9248 times\n",
      "other occurs 46119 times\n",
      "credit_card occurs 186141 times\n",
      "major_purchase occurs 16776 times\n",
      "moving occurs 6086 times\n",
      "debt_consolidation occurs 509439 times\n",
      "medical occurs 9134 times\n",
      "educational occurs 102 times\n",
      "car occurs 8738 times\n",
      "\n",
      "\n"
     ]
    },
    {
     "data": {
      "image/png": "[encoded data removed]",
      "text/plain": [
       "<Figure size 432x288 with 1 Axes>"
      ]
     },
     "metadata": {
      "needs_background": "light"
     },
     "output_type": "display_data"
    },
    {
     "data": {
      "image/png": "[encoded data removed]",
      "text/plain": [
       "<Figure size 432x288 with 1 Axes>"
      ]
     },
     "metadata": {
      "needs_background": "light"
     },
     "output_type": "display_data"
    },
    {
     "data": {
      "image/png": "[encoded data removed]",
      "text/plain": [
       "<Figure size 432x288 with 1 Axes>"
      ]
     },
     "metadata": {
      "needs_background": "light"
     },
     "output_type": "display_data"
    }
   ],
   "source": [
    "# Visualize the data again after cleaning\n",
    "# visualize continuous features\n",
    "visualize_float_columns()\n",
    "\n",
    "# visulaize categorical features\n",
    "visualize_cat_columns()\n",
    "\n",
    "# visualize date columns\n",
    "visualize_date_columns()"
   ]
  },
  {
   "cell_type": "code",
   "execution_count": 31,
   "metadata": {},
   "outputs": [],
   "source": [
    "cols = ['term','grade', 'emp_length','home_ownership','verification_status', 'purpose']\n",
    "tmp = pd.get_dummies(final_data, columns = cols).drop('loan_status', axis=1)\n",
    "tmp2 = pd.get_dummies(final_data, columns = cat_cols)"
   ]
  },
  {
   "cell_type": "code",
   "execution_count": 32,
   "metadata": {},
   "outputs": [
    {
     "data": {
      "text/plain": [
       "<matplotlib.axes._subplots.AxesSubplot at 0x1e729fdb518>"
      ]
     },
     "execution_count": 32,
     "metadata": {},
     "output_type": "execute_result"
    },
    {
     "data": {
      "image/png": "[encoded data removed]",
      "text/plain": [
       "<Figure size 2160x2016 with 2 Axes>"
      ]
     },
     "metadata": {
      "needs_background": "light"
     },
     "output_type": "display_data"
    }
   ],
   "source": [
    "# Visualize the feature correlations\n",
    " # use sns scatter or pairplot\n",
    "\n",
    "# Compute the correlation matrix\n",
    "corr = tmp.corr()\n",
    "\n",
    "# Generate a mask for the upper triangle\n",
    "mask = np.zeros_like(corr, dtype=np.bool)\n",
    "mask[np.triu_indices_from(mask)] = True\n",
    "\n",
    "# Set up the matplotlib figure\n",
    "f, ax = plt.subplots(figsize=(30, 28))\n",
    "\n",
    "# Generate a custom diverging colormap\n",
    "cmap = seaborn.diverging_palette(240, 10, as_cmap=True)\n",
    "\n",
    "# Draw the heatmap with the mask and correct aspect ratio\n",
    "seaborn.heatmap(corr, mask=mask, cmap=cmap, vmax=.3, center=0,\n",
    "            square=True, linewidths=.5, cbar_kws={\"shrink\": .5})"
   ]
  },
  {
   "cell_type": "code",
   "execution_count": 33,
   "metadata": {},
   "outputs": [
    {
     "data": {
      "text/plain": [
       "Index(['id', 'loan_amnt', 'funded_amnt', 'int_rate', 'installment',\n",
       "       'annual_inc', 'issue_d', 'dti', 'delinq_2yrs', 'earliest_cr_line',\n",
       "       'fico_range_low', 'fico_range_high', 'open_acc', 'pub_rec', 'revol_bal',\n",
       "       'revol_util', 'total_pymnt', 'recoveries', 'last_pymnt_d',\n",
       "       'loan_length', 'term_num', 'ret_PESS', 'ret_OPT', 'ret_INTa',\n",
       "       'ret_INTb', 'term_ 36 months', 'term_ 60 months', 'grade_A', 'grade_B',\n",
       "       'grade_C', 'grade_D', 'grade_E', 'grade_F', 'grade_G',\n",
       "       'emp_length_1 year', 'emp_length_10+ years', 'emp_length_2 years',\n",
       "       'emp_length_3 years', 'emp_length_4 years', 'emp_length_5 years',\n",
       "       'emp_length_6 years', 'emp_length_7 years', 'emp_length_8 years',\n",
       "       'emp_length_9 years', 'emp_length_< 1 year', 'home_ownership_ANY',\n",
       "       'home_ownership_MORTGAGE', 'home_ownership_NONE',\n",
       "       'home_ownership_OTHER', 'home_ownership_OWN', 'home_ownership_RENT',\n",
       "       'verification_status_Not Verified',\n",
       "       'verification_status_Source Verified', 'verification_status_Verified',\n",
       "       'loan_status_Charged Off', 'loan_status_Default',\n",
       "       'loan_status_Does not meet the credit policy. Status:Charged Off',\n",
       "       'loan_status_Does not meet the credit policy. Status:Fully Paid',\n",
       "       'loan_status_Fully Paid', 'loan_status_In Grace Period',\n",
       "       'loan_status_Late (16-30 days)', 'loan_status_Late (31-120 days)',\n",
       "       'purpose_car', 'purpose_credit_card', 'purpose_debt_consolidation',\n",
       "       'purpose_educational', 'purpose_home_improvement', 'purpose_house',\n",
       "       'purpose_major_purchase', 'purpose_medical', 'purpose_moving',\n",
       "       'purpose_other', 'purpose_renewable_energy', 'purpose_small_business',\n",
       "       'purpose_vacation', 'purpose_wedding'],\n",
       "      dtype='object')"
      ]
     },
     "execution_count": 33,
     "metadata": {},
     "output_type": "execute_result"
    }
   ],
   "source": [
    "tmp2.columns"
   ]
  },
  {
   "cell_type": "code",
   "execution_count": 34,
   "metadata": {},
   "outputs": [],
   "source": [
    "selected = ['loan_status_Charged Off', 'loan_status_Default',\n",
    "       'loan_status_Does not meet the credit policy. Status:Charged Off',\n",
    "       'loan_status_Does not meet the credit policy. Status:Fully Paid',\n",
    "       'loan_status_Fully Paid', 'loan_status_In Grace Period',\n",
    "       'loan_status_Late (16-30 days)', 'loan_status_Late (31-120 days)']"
   ]
  },
  {
   "cell_type": "code",
   "execution_count": 35,
   "metadata": {},
   "outputs": [
    {
     "data": {
      "text/plain": [
       "Index(['annual_inc', 'delinq_2yrs', 'dti', 'earliest_cr_line',\n",
       "       'emp_length_1 year', 'emp_length_10+ years', 'emp_length_2 years',\n",
       "       'emp_length_3 years', 'emp_length_4 years', 'emp_length_5 years',\n",
       "       'emp_length_6 years', 'emp_length_7 years', 'emp_length_8 years',\n",
       "       'emp_length_9 years', 'emp_length_< 1 year', 'fico_range_high',\n",
       "       'fico_range_low', 'funded_amnt', 'grade_A', 'grade_B', 'grade_C',\n",
       "       'grade_D', 'grade_E', 'grade_F', 'grade_G', 'home_ownership_ANY',\n",
       "       'home_ownership_MORTGAGE', 'home_ownership_NONE',\n",
       "       'home_ownership_OTHER', 'home_ownership_OWN', 'home_ownership_RENT',\n",
       "       'id', 'installment', 'int_rate', 'issue_d', 'last_pymnt_d', 'loan_amnt',\n",
       "       'loan_length', 'open_acc', 'pub_rec', 'purpose_car',\n",
       "       'purpose_credit_card', 'purpose_debt_consolidation',\n",
       "       'purpose_educational', 'purpose_home_improvement', 'purpose_house',\n",
       "       'purpose_major_purchase', 'purpose_medical', 'purpose_moving',\n",
       "       'purpose_other', 'purpose_renewable_energy', 'purpose_small_business',\n",
       "       'purpose_vacation', 'purpose_wedding', 'recoveries', 'ret_INTa',\n",
       "       'ret_INTb', 'ret_OPT', 'ret_PESS', 'revol_bal', 'revol_util',\n",
       "       'term_ 36 months', 'term_ 60 months', 'term_num', 'total_pymnt',\n",
       "       'verification_status_Not Verified',\n",
       "       'verification_status_Source Verified', 'verification_status_Verified'],\n",
       "      dtype='object')"
      ]
     },
     "execution_count": 35,
     "metadata": {},
     "output_type": "execute_result"
    }
   ],
   "source": [
    "tmp2.columns.difference(selected)"
   ]
  },
  {
   "cell_type": "code",
   "execution_count": 36,
   "metadata": {},
   "outputs": [
    {
     "data": {
      "text/plain": [
       "<matplotlib.axes._subplots.AxesSubplot at 0x1e7460872b0>"
      ]
     },
     "execution_count": 36,
     "metadata": {},
     "output_type": "execute_result"
    },
    {
     "data": {
      "image/png": "[encoded data removed]",
      "text/plain": [
       "<Figure size 2160x2016 with 2 Axes>"
      ]
     },
     "metadata": {
      "needs_background": "light"
     },
     "output_type": "display_data"
    }
   ],
   "source": [
    "# Visualize relation between loan status and features\n",
    "# sns pairplot or scatter plot. Refer to recitations\n",
    "# Compute the correlation matrix\n",
    "corr2 = tmp2.corr()\n",
    "\n",
    "\n",
    "\n",
    "# Set up the matplotlib figure\n",
    "f, ax = plt.subplots(figsize=(30, 28))\n",
    "\n",
    "# Generate a custom diverging colormap\n",
    "cmap = seaborn.diverging_palette(240, 10, as_cmap=True)\n",
    "\n",
    "# Draw the heatmap with the mask and correct aspect ratio\n",
    "seaborn.heatmap(corr2.loc[selected][corr2.columns.difference(selected)],  cmap=cmap, vmax=.3, center=0,\n",
    "            square=True, linewidths=.5, cbar_kws={\"shrink\": .5})"
   ]
  },
  {
   "cell_type": "markdown",
   "metadata": {},
   "source": [
    "What do you observe after removing the outliers?**Answer:**1.We removed outliners several times based on a single variable. As a result,we cannot find the influence of each action since this is a global question and we found out some variables have more outliners after outliner handling.2.We found that grade is related to fico, annual income, term, home ownership, verification status,revol and purpose 3.We found that loan status is related to grade, fico, annual income, dti,term, home ownership and  verification status 4.Average returns under all methods are positive5.\n"
   ]
  },
  {
   "cell_type": "markdown",
   "metadata": {},
   "source": [
    "### Data Exploration\n",
    "Solution to Q.7 from the handout"
   ]
  },
  {
   "cell_type": "code",
   "execution_count": 37,
   "metadata": {},
   "outputs": [
    {
     "data": {
      "text/html": [
       "<div>\n",
       "<style scoped>\n",
       "    .dataframe tbody tr th:only-of-type {\n",
       "        vertical-align: middle;\n",
       "    }\n",
       "\n",
       "    .dataframe tbody tr th {\n",
       "        vertical-align: top;\n",
       "    }\n",
       "\n",
       "    .dataframe thead th {\n",
       "        text-align: right;\n",
       "    }\n",
       "</style>\n",
       "<table border=\"1\" class=\"dataframe\">\n",
       "  <thead>\n",
       "    <tr style=\"text-align: right;\">\n",
       "      <th></th>\n",
       "      <th>perc_of_loans</th>\n",
       "      <th>perc_default</th>\n",
       "      <th>avg_int_rate</th>\n",
       "      <th>return_PESS</th>\n",
       "      <th>return_OPT</th>\n",
       "      <th>return_INTa</th>\n",
       "      <th>return_INTb</th>\n",
       "    </tr>\n",
       "  </thead>\n",
       "  <tbody>\n",
       "    <tr>\n",
       "      <th>A</th>\n",
       "      <td>14.343457</td>\n",
       "      <td>8.081940</td>\n",
       "      <td>7.330091</td>\n",
       "      <td>1.477445</td>\n",
       "      <td>3.611937</td>\n",
       "      <td>3.004754</td>\n",
       "      <td>6.592898</td>\n",
       "    </tr>\n",
       "    <tr>\n",
       "      <th>B</th>\n",
       "      <td>29.120555</td>\n",
       "      <td>15.924388</td>\n",
       "      <td>10.870114</td>\n",
       "      <td>1.211158</td>\n",
       "      <td>4.497838</td>\n",
       "      <td>2.845682</td>\n",
       "      <td>6.432082</td>\n",
       "    </tr>\n",
       "    <tr>\n",
       "      <th>C</th>\n",
       "      <td>28.961503</td>\n",
       "      <td>26.173804</td>\n",
       "      <td>14.078565</td>\n",
       "      <td>0.035240</td>\n",
       "      <td>4.567171</td>\n",
       "      <td>2.009475</td>\n",
       "      <td>5.497280</td>\n",
       "    </tr>\n",
       "    <tr>\n",
       "      <th>D</th>\n",
       "      <td>16.045647</td>\n",
       "      <td>34.219318</td>\n",
       "      <td>17.560877</td>\n",
       "      <td>-0.486402</td>\n",
       "      <td>4.858274</td>\n",
       "      <td>1.527633</td>\n",
       "      <td>4.926948</td>\n",
       "    </tr>\n",
       "    <tr>\n",
       "      <th>E</th>\n",
       "      <td>7.912507</td>\n",
       "      <td>42.865190</td>\n",
       "      <td>20.781932</td>\n",
       "      <td>-1.347226</td>\n",
       "      <td>5.081852</td>\n",
       "      <td>0.696912</td>\n",
       "      <td>3.962914</td>\n",
       "    </tr>\n",
       "    <tr>\n",
       "      <th>F</th>\n",
       "      <td>2.862827</td>\n",
       "      <td>48.842545</td>\n",
       "      <td>24.519123</td>\n",
       "      <td>-1.760550</td>\n",
       "      <td>5.579841</td>\n",
       "      <td>0.193741</td>\n",
       "      <td>3.380551</td>\n",
       "    </tr>\n",
       "    <tr>\n",
       "      <th>G</th>\n",
       "      <td>0.753505</td>\n",
       "      <td>54.000623</td>\n",
       "      <td>27.184958</td>\n",
       "      <td>-3.323352</td>\n",
       "      <td>5.026508</td>\n",
       "      <td>-1.157910</td>\n",
       "      <td>1.886342</td>\n",
       "    </tr>\n",
       "  </tbody>\n",
       "</table>\n",
       "</div>"
      ],
      "text/plain": [
       "   perc_of_loans  perc_default  avg_int_rate  return_PESS  return_OPT  \\\n",
       "A      14.343457      8.081940      7.330091     1.477445    3.611937   \n",
       "B      29.120555     15.924388     10.870114     1.211158    4.497838   \n",
       "C      28.961503     26.173804     14.078565     0.035240    4.567171   \n",
       "D      16.045647     34.219318     17.560877    -0.486402    4.858274   \n",
       "E       7.912507     42.865190     20.781932    -1.347226    5.081852   \n",
       "F       2.862827     48.842545     24.519123    -1.760550    5.579841   \n",
       "G       0.753505     54.000623     27.184958    -3.323352    5.026508   \n",
       "\n",
       "   return_INTa  return_INTb  \n",
       "A     3.004754     6.592898  \n",
       "B     2.845682     6.432082  \n",
       "C     2.009475     5.497280  \n",
       "D     1.527633     4.926948  \n",
       "E     0.696912     3.962914  \n",
       "F     0.193741     3.380551  \n",
       "G    -1.157910     1.886342  "
      ]
     },
     "execution_count": 37,
     "metadata": {},
     "output_type": "execute_result"
    }
   ],
   "source": [
    "# Find the percentage of loans by grade, the default by grade,\n",
    "# and the return of each grade\n",
    "perc_by_grade = (final_data.grade.value_counts()*100/len(final_data)).sort_index()\n",
    "\n",
    "default_by_grade = final_data.groupby(\"grade\").apply(lambda x : (x.loan_status != \"Fully Paid\").sum()*100/len(x) )\n",
    "ret_by_grade_OPT = final_data.groupby(\"grade\").apply(lambda x : np.mean(x.ret_OPT)) # average return for M2-Optimistic for each loan grade\n",
    "ret_by_grade_PESS = final_data.groupby(\"grade\").apply(lambda x : np.mean(x.ret_PESS)) # average return for M1-Pessimistic for each loan grade\n",
    "ret_by_grade_INTa = final_data.groupby(\"grade\").apply(lambda x : np.mean(x.ret_INTa)) # average return for M3\n",
    "ret_by_grade_INTb = final_data.groupby(\"grade\").apply(lambda x : np.mean(x.ret_INTb)) # average return for M3\n",
    "int_rate_by_grade = final_data.groupby(\"grade\").apply(lambda x : np.mean(x.int_rate)) # average interest rate for each grade\n",
    "\n",
    "combined = pd.DataFrame(perc_by_grade)\n",
    "combined.columns = ['perc_of_loans']\n",
    "combined['perc_default'] = default_by_grade\n",
    "combined['avg_int_rate'] = int_rate_by_grade\n",
    "combined['return_PESS'] = 100*ret_by_grade_PESS\n",
    "combined['return_OPT'] = 100*ret_by_grade_OPT\n",
    "combined['return_INTa'] = 100*ret_by_grade_INTa\n",
    "combined['return_INTb'] = 100*ret_by_grade_INTb\n",
    "\n",
    "combined"
   ]
  },
  {
   "cell_type": "markdown",
   "metadata": {},
   "source": [
    "Based on the output of previous cell, write down your answers to Q.7 from the handout."
   ]
  },
  {
   "cell_type": "markdown",
   "metadata": {},
   "source": [
    "### Save a Pickle"
   ]
  },
  {
   "cell_type": "code",
   "execution_count": 38,
   "metadata": {},
   "outputs": [],
   "source": [
    "# Remove the \"total_pymnt\" and \"recoveries\" from the list of continuous features\n",
    "continuous_features = [e for e in continuous_features if e not in('total_pymnt','recoveries')]"
   ]
  },
  {
   "cell_type": "markdown",
   "metadata": {},
   "source": [
    "Why did we remove `total_pymt` and `recoveries` from the data for the task of predicting whether to give loan or not, although these are highly predictive features?**Answer:**Because these two variables are not useful for future prediction. They will not show up in the future datasets, since the new loan do not have 'total_pymt' and 'recoveries'."
   ]
  },
  {
   "cell_type": "code",
   "execution_count": 39,
   "metadata": {},
   "outputs": [],
   "source": [
    "# save the prepared data for modeling in next Phase.\n",
    "pickle.dump( [final_data, discrete_features, continuous_features, ret_cols], open(pickle_file, \"wb\") )"
   ]
  }
 ],
 "metadata": {
  "kernelspec": {
   "display_name": "Python 3",
   "language": "python",
   "name": "python3"
  },
  "language_info": {
   "codemirror_mode": {
    "name": "ipython",
    "version": 3
   },
   "file_extension": ".py",
   "mimetype": "text/x-python",
   "name": "python",
   "nbconvert_exporter": "python",
   "pygments_lexer": "ipython3",
   "version": "3.6.7"
  }
 },
 "nbformat": 4,
 "nbformat_minor": 2
}
